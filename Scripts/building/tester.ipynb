{
 "cells": [
  {
   "cell_type": "code",
   "execution_count": 5,
   "metadata": {
    "collapsed": true
   },
   "outputs": [
    {
     "data": {
      "text/plain": "<IB connected to 127.0.0.1:7497 clientId=29>"
     },
     "execution_count": 5,
     "metadata": {},
     "output_type": "execute_result"
    }
   ],
   "source": [
    "from ib_insync import *\n",
    "util.startLoop()\n",
    "\n",
    "ib = IB()\n",
    "ib.client.setConnectOptions('+PACEAPI')\n",
    "ib.connect('127.0.0.1', 7497, clientId=29)"
   ]
  },
  {
   "cell_type": "code",
   "execution_count": 6,
   "outputs": [
    {
     "name": "stdout",
     "output_type": "stream",
     "text": [
      "BarData(date=datetime.date(2022, 9, 26), open=0.37781329, high=0.40162505, low=0.37781329, close=0.3968627, volume=0.01, average=0.4021965313027948, barCount=0)\n"
     ]
    }
   ],
   "source": [
    "\n",
    "contract = Stock('AAPL','SMART', 'USD')\n",
    "bars = ib.reqHistoricalData(contract, endDateTime='', durationStr='1 D',\n",
    "        barSizeSetting='1 day', whatToShow='OPTION_IMPLIED_VOLATILITY', useRTH=True)\n",
    "\n",
    "for day in bars:\n",
    "    print(day)"
   ],
   "metadata": {
    "collapsed": false,
    "pycharm": {
     "name": "#%%\n"
    }
   }
  },
  {
   "cell_type": "code",
   "execution_count": 7,
   "outputs": [],
   "source": [
    "ib.disconnect()"
   ],
   "metadata": {
    "collapsed": false,
    "pycharm": {
     "name": "#%%\n"
    }
   }
  },
  {
   "cell_type": "code",
   "execution_count": 12,
   "outputs": [],
   "source": [
    "import yfinance as yf\n",
    "stock = yf.Ticker('AMZN')"
   ],
   "metadata": {
    "collapsed": false,
    "pycharm": {
     "name": "#%%\n"
    }
   }
  },
  {
   "cell_type": "code",
   "execution_count": 13,
   "outputs": [],
   "source": [
    "a = stock.options"
   ],
   "metadata": {
    "collapsed": false,
    "pycharm": {
     "name": "#%%\n"
    }
   }
  },
  {
   "cell_type": "code",
   "execution_count": 20,
   "outputs": [],
   "source": [
    "exp1 = a[-1]"
   ],
   "metadata": {
    "collapsed": false,
    "pycharm": {
     "name": "#%%\n"
    }
   }
  },
  {
   "cell_type": "code",
   "execution_count": 24,
   "outputs": [
    {
     "data": {
      "text/plain": "('2022-09-30',\n '2022-10-07',\n '2022-10-14',\n '2022-10-21',\n '2022-10-28',\n '2022-11-04',\n '2022-11-18',\n '2022-12-16',\n '2023-01-20',\n '2023-02-17',\n '2023-03-17',\n '2023-04-21',\n '2023-06-16',\n '2023-07-21',\n '2023-09-15',\n '2024-01-19',\n '2024-06-21',\n '2025-01-17')"
     },
     "execution_count": 24,
     "metadata": {},
     "output_type": "execute_result"
    }
   ],
   "source": [
    "a"
   ],
   "metadata": {
    "collapsed": false,
    "pycharm": {
     "name": "#%%\n"
    }
   }
  },
  {
   "cell_type": "code",
   "execution_count": 22,
   "outputs": [],
   "source": [
    "option_chain = stock.option_chain(date=exp1)"
   ],
   "metadata": {
    "collapsed": false,
    "pycharm": {
     "name": "#%%\n"
    }
   }
  },
  {
   "cell_type": "code",
   "execution_count": 23,
   "outputs": [
    {
     "data": {
      "text/plain": "         contractSymbol             lastTradeDate  strike  lastPrice    bid  \\\n0   AMZN250117C00060000 2022-09-26 17:16:29+00:00    60.0      65.20  64.35   \n1   AMZN250117C00065000 2022-09-23 15:38:13+00:00    65.0      61.05  58.05   \n2   AMZN250117C00070000 2022-09-23 19:36:13+00:00    70.0      56.50  54.45   \n3   AMZN250117C00075000 2022-09-21 18:00:23+00:00    75.0      59.86  52.15   \n4   AMZN250117C00080000 2022-09-23 18:00:36+00:00    80.0      49.50  50.45   \n5   AMZN250117C00085000 2022-09-23 16:08:00+00:00    85.0      46.80  46.30   \n6   AMZN250117C00090000 2022-09-26 15:46:01+00:00    90.0      46.60  44.85   \n7   AMZN250117C00095000 2022-09-23 18:46:59+00:00    95.0      39.70  39.90   \n8   AMZN250117C00100000 2022-09-26 14:38:13+00:00   100.0      40.45  36.40   \n9   AMZN250117C00105000 2022-09-23 19:12:12+00:00   105.0      36.87  36.30   \n10  AMZN250117C00110000 2022-09-26 15:47:18+00:00   110.0      34.25  31.05   \n11  AMZN250117C00115000 2022-09-26 15:18:56+00:00   115.0      31.77  31.45   \n12  AMZN250117C00120000 2022-09-26 16:34:19+00:00   120.0      28.00  29.20   \n13  AMZN250117C00125000 2022-09-26 17:20:17+00:00   125.0      27.05  27.05   \n14  AMZN250117C00130000 2022-09-26 17:59:04+00:00   130.0      25.00  22.20   \n15  AMZN250117C00135000 2022-09-26 18:11:40+00:00   135.0      23.45  19.60   \n16  AMZN250117C00140000 2022-09-26 18:00:14+00:00   140.0      19.15  20.05   \n17  AMZN250117C00145000 2022-09-26 16:03:12+00:00   145.0      19.85  17.70   \n18  AMZN250117C00150000 2022-09-26 17:55:16+00:00   150.0      18.10  17.95   \n19  AMZN250117C00155000 2022-09-26 13:54:45+00:00   155.0      17.50  16.50   \n20  AMZN250117C00160000 2022-09-26 17:34:47+00:00   160.0      15.40  15.35   \n21  AMZN250117C00165000 2022-09-23 16:46:41+00:00   165.0      13.50  14.10   \n22  AMZN250117C00170000 2022-09-26 17:22:47+00:00   170.0      13.15  12.95   \n23  AMZN250117C00175000 2022-09-26 15:56:26+00:00   175.0      12.25  11.90   \n24  AMZN250117C00180000 2022-09-26 17:26:56+00:00   180.0      11.58  10.85   \n25  AMZN250117C00185000 2022-09-26 17:15:00+00:00   185.0      10.00   9.90   \n26  AMZN250117C00190000 2022-09-23 19:33:22+00:00   190.0       8.82   9.20   \n27  AMZN250117C00195000 2022-09-26 17:30:32+00:00   195.0       8.97   8.45   \n28  AMZN250117C00200000 2022-09-26 18:17:43+00:00   200.0       8.27   7.70   \n\n      ask    change  percentChange  volume  openInterest  impliedVolatility  \\\n0   68.75  2.499996       3.987235       1             4           0.642399   \n1   65.00  0.000000       0.000000       6            52           0.584599   \n2   61.75  0.000000       0.000000       7           322           0.569951   \n3   57.45  0.000000       0.000000       1             3           0.556676   \n4   54.75  0.000000       0.000000      10           125           0.564610   \n5   50.65  0.000000       0.000000       2             5           0.531438   \n6   49.20  2.599998       5.909088       3           369           0.548344   \n7   45.95  0.000000       0.000000       1            15           0.514775   \n8   40.30  2.450001       6.447370      28           113           0.506658   \n9   37.70  2.020001       5.796271       2            72           0.497472   \n10  35.80  0.750000       2.238806       8           338           0.497960   \n11  32.45  0.770000       2.483872       2           132           0.474462   \n12  30.05 -0.299999      -1.060068      12           536           0.464605   \n13  27.95  1.099999       4.238915      27           948           0.457922   \n14  27.60  1.000000       4.166666       4           249           0.475408   \n15  24.00  1.330000       6.012658       6           125           0.444311   \n16  24.65 -1.150000      -5.665023       7           265           0.473272   \n17  22.80  1.050001       5.585113       7           161           0.465093   \n18  19.10 -1.199999      -6.217611      41           427           0.429266   \n19  20.10  1.500000       9.375000       4           124           0.459814   \n20  16.50  1.000000       6.944445      14           213           0.423010   \n21  16.35  0.000000       0.000000       3           441           0.435156   \n22  14.30  0.750000       6.048387      57           120           0.418371   \n23  12.80  0.190000       1.575453      12           144           0.408484   \n24  11.60  0.519999       4.701623       6           159           0.401953   \n25  11.15  0.000000       0.000000       2            32           0.406317   \n26  10.30  0.000000       0.000000      21            54           0.403540   \n27  10.60  0.970000      12.125004       2            63           0.418890   \n28   8.65  0.770000      10.266673     307          1012           0.396124   \n\n    inTheMoney contractSize currency  \n0         True      REGULAR      USD  \n1         True      REGULAR      USD  \n2         True      REGULAR      USD  \n3         True      REGULAR      USD  \n4         True      REGULAR      USD  \n5         True      REGULAR      USD  \n6         True      REGULAR      USD  \n7         True      REGULAR      USD  \n8         True      REGULAR      USD  \n9         True      REGULAR      USD  \n10        True      REGULAR      USD  \n11        True      REGULAR      USD  \n12       False      REGULAR      USD  \n13       False      REGULAR      USD  \n14       False      REGULAR      USD  \n15       False      REGULAR      USD  \n16       False      REGULAR      USD  \n17       False      REGULAR      USD  \n18       False      REGULAR      USD  \n19       False      REGULAR      USD  \n20       False      REGULAR      USD  \n21       False      REGULAR      USD  \n22       False      REGULAR      USD  \n23       False      REGULAR      USD  \n24       False      REGULAR      USD  \n25       False      REGULAR      USD  \n26       False      REGULAR      USD  \n27       False      REGULAR      USD  \n28       False      REGULAR      USD  ",
      "text/html": "<div>\n<style scoped>\n    .dataframe tbody tr th:only-of-type {\n        vertical-align: middle;\n    }\n\n    .dataframe tbody tr th {\n        vertical-align: top;\n    }\n\n    .dataframe thead th {\n        text-align: right;\n    }\n</style>\n<table border=\"1\" class=\"dataframe\">\n  <thead>\n    <tr style=\"text-align: right;\">\n      <th></th>\n      <th>contractSymbol</th>\n      <th>lastTradeDate</th>\n      <th>strike</th>\n      <th>lastPrice</th>\n      <th>bid</th>\n      <th>ask</th>\n      <th>change</th>\n      <th>percentChange</th>\n      <th>volume</th>\n      <th>openInterest</th>\n      <th>impliedVolatility</th>\n      <th>inTheMoney</th>\n      <th>contractSize</th>\n      <th>currency</th>\n    </tr>\n  </thead>\n  <tbody>\n    <tr>\n      <th>0</th>\n      <td>AMZN250117C00060000</td>\n      <td>2022-09-26 17:16:29+00:00</td>\n      <td>60.0</td>\n      <td>65.20</td>\n      <td>64.35</td>\n      <td>68.75</td>\n      <td>2.499996</td>\n      <td>3.987235</td>\n      <td>1</td>\n      <td>4</td>\n      <td>0.642399</td>\n      <td>True</td>\n      <td>REGULAR</td>\n      <td>USD</td>\n    </tr>\n    <tr>\n      <th>1</th>\n      <td>AMZN250117C00065000</td>\n      <td>2022-09-23 15:38:13+00:00</td>\n      <td>65.0</td>\n      <td>61.05</td>\n      <td>58.05</td>\n      <td>65.00</td>\n      <td>0.000000</td>\n      <td>0.000000</td>\n      <td>6</td>\n      <td>52</td>\n      <td>0.584599</td>\n      <td>True</td>\n      <td>REGULAR</td>\n      <td>USD</td>\n    </tr>\n    <tr>\n      <th>2</th>\n      <td>AMZN250117C00070000</td>\n      <td>2022-09-23 19:36:13+00:00</td>\n      <td>70.0</td>\n      <td>56.50</td>\n      <td>54.45</td>\n      <td>61.75</td>\n      <td>0.000000</td>\n      <td>0.000000</td>\n      <td>7</td>\n      <td>322</td>\n      <td>0.569951</td>\n      <td>True</td>\n      <td>REGULAR</td>\n      <td>USD</td>\n    </tr>\n    <tr>\n      <th>3</th>\n      <td>AMZN250117C00075000</td>\n      <td>2022-09-21 18:00:23+00:00</td>\n      <td>75.0</td>\n      <td>59.86</td>\n      <td>52.15</td>\n      <td>57.45</td>\n      <td>0.000000</td>\n      <td>0.000000</td>\n      <td>1</td>\n      <td>3</td>\n      <td>0.556676</td>\n      <td>True</td>\n      <td>REGULAR</td>\n      <td>USD</td>\n    </tr>\n    <tr>\n      <th>4</th>\n      <td>AMZN250117C00080000</td>\n      <td>2022-09-23 18:00:36+00:00</td>\n      <td>80.0</td>\n      <td>49.50</td>\n      <td>50.45</td>\n      <td>54.75</td>\n      <td>0.000000</td>\n      <td>0.000000</td>\n      <td>10</td>\n      <td>125</td>\n      <td>0.564610</td>\n      <td>True</td>\n      <td>REGULAR</td>\n      <td>USD</td>\n    </tr>\n    <tr>\n      <th>5</th>\n      <td>AMZN250117C00085000</td>\n      <td>2022-09-23 16:08:00+00:00</td>\n      <td>85.0</td>\n      <td>46.80</td>\n      <td>46.30</td>\n      <td>50.65</td>\n      <td>0.000000</td>\n      <td>0.000000</td>\n      <td>2</td>\n      <td>5</td>\n      <td>0.531438</td>\n      <td>True</td>\n      <td>REGULAR</td>\n      <td>USD</td>\n    </tr>\n    <tr>\n      <th>6</th>\n      <td>AMZN250117C00090000</td>\n      <td>2022-09-26 15:46:01+00:00</td>\n      <td>90.0</td>\n      <td>46.60</td>\n      <td>44.85</td>\n      <td>49.20</td>\n      <td>2.599998</td>\n      <td>5.909088</td>\n      <td>3</td>\n      <td>369</td>\n      <td>0.548344</td>\n      <td>True</td>\n      <td>REGULAR</td>\n      <td>USD</td>\n    </tr>\n    <tr>\n      <th>7</th>\n      <td>AMZN250117C00095000</td>\n      <td>2022-09-23 18:46:59+00:00</td>\n      <td>95.0</td>\n      <td>39.70</td>\n      <td>39.90</td>\n      <td>45.95</td>\n      <td>0.000000</td>\n      <td>0.000000</td>\n      <td>1</td>\n      <td>15</td>\n      <td>0.514775</td>\n      <td>True</td>\n      <td>REGULAR</td>\n      <td>USD</td>\n    </tr>\n    <tr>\n      <th>8</th>\n      <td>AMZN250117C00100000</td>\n      <td>2022-09-26 14:38:13+00:00</td>\n      <td>100.0</td>\n      <td>40.45</td>\n      <td>36.40</td>\n      <td>40.30</td>\n      <td>2.450001</td>\n      <td>6.447370</td>\n      <td>28</td>\n      <td>113</td>\n      <td>0.506658</td>\n      <td>True</td>\n      <td>REGULAR</td>\n      <td>USD</td>\n    </tr>\n    <tr>\n      <th>9</th>\n      <td>AMZN250117C00105000</td>\n      <td>2022-09-23 19:12:12+00:00</td>\n      <td>105.0</td>\n      <td>36.87</td>\n      <td>36.30</td>\n      <td>37.70</td>\n      <td>2.020001</td>\n      <td>5.796271</td>\n      <td>2</td>\n      <td>72</td>\n      <td>0.497472</td>\n      <td>True</td>\n      <td>REGULAR</td>\n      <td>USD</td>\n    </tr>\n    <tr>\n      <th>10</th>\n      <td>AMZN250117C00110000</td>\n      <td>2022-09-26 15:47:18+00:00</td>\n      <td>110.0</td>\n      <td>34.25</td>\n      <td>31.05</td>\n      <td>35.80</td>\n      <td>0.750000</td>\n      <td>2.238806</td>\n      <td>8</td>\n      <td>338</td>\n      <td>0.497960</td>\n      <td>True</td>\n      <td>REGULAR</td>\n      <td>USD</td>\n    </tr>\n    <tr>\n      <th>11</th>\n      <td>AMZN250117C00115000</td>\n      <td>2022-09-26 15:18:56+00:00</td>\n      <td>115.0</td>\n      <td>31.77</td>\n      <td>31.45</td>\n      <td>32.45</td>\n      <td>0.770000</td>\n      <td>2.483872</td>\n      <td>2</td>\n      <td>132</td>\n      <td>0.474462</td>\n      <td>True</td>\n      <td>REGULAR</td>\n      <td>USD</td>\n    </tr>\n    <tr>\n      <th>12</th>\n      <td>AMZN250117C00120000</td>\n      <td>2022-09-26 16:34:19+00:00</td>\n      <td>120.0</td>\n      <td>28.00</td>\n      <td>29.20</td>\n      <td>30.05</td>\n      <td>-0.299999</td>\n      <td>-1.060068</td>\n      <td>12</td>\n      <td>536</td>\n      <td>0.464605</td>\n      <td>False</td>\n      <td>REGULAR</td>\n      <td>USD</td>\n    </tr>\n    <tr>\n      <th>13</th>\n      <td>AMZN250117C00125000</td>\n      <td>2022-09-26 17:20:17+00:00</td>\n      <td>125.0</td>\n      <td>27.05</td>\n      <td>27.05</td>\n      <td>27.95</td>\n      <td>1.099999</td>\n      <td>4.238915</td>\n      <td>27</td>\n      <td>948</td>\n      <td>0.457922</td>\n      <td>False</td>\n      <td>REGULAR</td>\n      <td>USD</td>\n    </tr>\n    <tr>\n      <th>14</th>\n      <td>AMZN250117C00130000</td>\n      <td>2022-09-26 17:59:04+00:00</td>\n      <td>130.0</td>\n      <td>25.00</td>\n      <td>22.20</td>\n      <td>27.60</td>\n      <td>1.000000</td>\n      <td>4.166666</td>\n      <td>4</td>\n      <td>249</td>\n      <td>0.475408</td>\n      <td>False</td>\n      <td>REGULAR</td>\n      <td>USD</td>\n    </tr>\n    <tr>\n      <th>15</th>\n      <td>AMZN250117C00135000</td>\n      <td>2022-09-26 18:11:40+00:00</td>\n      <td>135.0</td>\n      <td>23.45</td>\n      <td>19.60</td>\n      <td>24.00</td>\n      <td>1.330000</td>\n      <td>6.012658</td>\n      <td>6</td>\n      <td>125</td>\n      <td>0.444311</td>\n      <td>False</td>\n      <td>REGULAR</td>\n      <td>USD</td>\n    </tr>\n    <tr>\n      <th>16</th>\n      <td>AMZN250117C00140000</td>\n      <td>2022-09-26 18:00:14+00:00</td>\n      <td>140.0</td>\n      <td>19.15</td>\n      <td>20.05</td>\n      <td>24.65</td>\n      <td>-1.150000</td>\n      <td>-5.665023</td>\n      <td>7</td>\n      <td>265</td>\n      <td>0.473272</td>\n      <td>False</td>\n      <td>REGULAR</td>\n      <td>USD</td>\n    </tr>\n    <tr>\n      <th>17</th>\n      <td>AMZN250117C00145000</td>\n      <td>2022-09-26 16:03:12+00:00</td>\n      <td>145.0</td>\n      <td>19.85</td>\n      <td>17.70</td>\n      <td>22.80</td>\n      <td>1.050001</td>\n      <td>5.585113</td>\n      <td>7</td>\n      <td>161</td>\n      <td>0.465093</td>\n      <td>False</td>\n      <td>REGULAR</td>\n      <td>USD</td>\n    </tr>\n    <tr>\n      <th>18</th>\n      <td>AMZN250117C00150000</td>\n      <td>2022-09-26 17:55:16+00:00</td>\n      <td>150.0</td>\n      <td>18.10</td>\n      <td>17.95</td>\n      <td>19.10</td>\n      <td>-1.199999</td>\n      <td>-6.217611</td>\n      <td>41</td>\n      <td>427</td>\n      <td>0.429266</td>\n      <td>False</td>\n      <td>REGULAR</td>\n      <td>USD</td>\n    </tr>\n    <tr>\n      <th>19</th>\n      <td>AMZN250117C00155000</td>\n      <td>2022-09-26 13:54:45+00:00</td>\n      <td>155.0</td>\n      <td>17.50</td>\n      <td>16.50</td>\n      <td>20.10</td>\n      <td>1.500000</td>\n      <td>9.375000</td>\n      <td>4</td>\n      <td>124</td>\n      <td>0.459814</td>\n      <td>False</td>\n      <td>REGULAR</td>\n      <td>USD</td>\n    </tr>\n    <tr>\n      <th>20</th>\n      <td>AMZN250117C00160000</td>\n      <td>2022-09-26 17:34:47+00:00</td>\n      <td>160.0</td>\n      <td>15.40</td>\n      <td>15.35</td>\n      <td>16.50</td>\n      <td>1.000000</td>\n      <td>6.944445</td>\n      <td>14</td>\n      <td>213</td>\n      <td>0.423010</td>\n      <td>False</td>\n      <td>REGULAR</td>\n      <td>USD</td>\n    </tr>\n    <tr>\n      <th>21</th>\n      <td>AMZN250117C00165000</td>\n      <td>2022-09-23 16:46:41+00:00</td>\n      <td>165.0</td>\n      <td>13.50</td>\n      <td>14.10</td>\n      <td>16.35</td>\n      <td>0.000000</td>\n      <td>0.000000</td>\n      <td>3</td>\n      <td>441</td>\n      <td>0.435156</td>\n      <td>False</td>\n      <td>REGULAR</td>\n      <td>USD</td>\n    </tr>\n    <tr>\n      <th>22</th>\n      <td>AMZN250117C00170000</td>\n      <td>2022-09-26 17:22:47+00:00</td>\n      <td>170.0</td>\n      <td>13.15</td>\n      <td>12.95</td>\n      <td>14.30</td>\n      <td>0.750000</td>\n      <td>6.048387</td>\n      <td>57</td>\n      <td>120</td>\n      <td>0.418371</td>\n      <td>False</td>\n      <td>REGULAR</td>\n      <td>USD</td>\n    </tr>\n    <tr>\n      <th>23</th>\n      <td>AMZN250117C00175000</td>\n      <td>2022-09-26 15:56:26+00:00</td>\n      <td>175.0</td>\n      <td>12.25</td>\n      <td>11.90</td>\n      <td>12.80</td>\n      <td>0.190000</td>\n      <td>1.575453</td>\n      <td>12</td>\n      <td>144</td>\n      <td>0.408484</td>\n      <td>False</td>\n      <td>REGULAR</td>\n      <td>USD</td>\n    </tr>\n    <tr>\n      <th>24</th>\n      <td>AMZN250117C00180000</td>\n      <td>2022-09-26 17:26:56+00:00</td>\n      <td>180.0</td>\n      <td>11.58</td>\n      <td>10.85</td>\n      <td>11.60</td>\n      <td>0.519999</td>\n      <td>4.701623</td>\n      <td>6</td>\n      <td>159</td>\n      <td>0.401953</td>\n      <td>False</td>\n      <td>REGULAR</td>\n      <td>USD</td>\n    </tr>\n    <tr>\n      <th>25</th>\n      <td>AMZN250117C00185000</td>\n      <td>2022-09-26 17:15:00+00:00</td>\n      <td>185.0</td>\n      <td>10.00</td>\n      <td>9.90</td>\n      <td>11.15</td>\n      <td>0.000000</td>\n      <td>0.000000</td>\n      <td>2</td>\n      <td>32</td>\n      <td>0.406317</td>\n      <td>False</td>\n      <td>REGULAR</td>\n      <td>USD</td>\n    </tr>\n    <tr>\n      <th>26</th>\n      <td>AMZN250117C00190000</td>\n      <td>2022-09-23 19:33:22+00:00</td>\n      <td>190.0</td>\n      <td>8.82</td>\n      <td>9.20</td>\n      <td>10.30</td>\n      <td>0.000000</td>\n      <td>0.000000</td>\n      <td>21</td>\n      <td>54</td>\n      <td>0.403540</td>\n      <td>False</td>\n      <td>REGULAR</td>\n      <td>USD</td>\n    </tr>\n    <tr>\n      <th>27</th>\n      <td>AMZN250117C00195000</td>\n      <td>2022-09-26 17:30:32+00:00</td>\n      <td>195.0</td>\n      <td>8.97</td>\n      <td>8.45</td>\n      <td>10.60</td>\n      <td>0.970000</td>\n      <td>12.125004</td>\n      <td>2</td>\n      <td>63</td>\n      <td>0.418890</td>\n      <td>False</td>\n      <td>REGULAR</td>\n      <td>USD</td>\n    </tr>\n    <tr>\n      <th>28</th>\n      <td>AMZN250117C00200000</td>\n      <td>2022-09-26 18:17:43+00:00</td>\n      <td>200.0</td>\n      <td>8.27</td>\n      <td>7.70</td>\n      <td>8.65</td>\n      <td>0.770000</td>\n      <td>10.266673</td>\n      <td>307</td>\n      <td>1012</td>\n      <td>0.396124</td>\n      <td>False</td>\n      <td>REGULAR</td>\n      <td>USD</td>\n    </tr>\n  </tbody>\n</table>\n</div>"
     },
     "execution_count": 23,
     "metadata": {},
     "output_type": "execute_result"
    }
   ],
   "source": [
    "option_chain.calls"
   ],
   "metadata": {
    "collapsed": false,
    "pycharm": {
     "name": "#%%\n"
    }
   }
  },
  {
   "cell_type": "code",
   "execution_count": 1,
   "outputs": [],
   "source": [
    "from dateutil import parser"
   ],
   "metadata": {
    "collapsed": false,
    "pycharm": {
     "name": "#%%\n"
    }
   }
  },
  {
   "cell_type": "code",
   "execution_count": 3,
   "outputs": [
    {
     "data": {
      "text/plain": "datetime.datetime(2022, 10, 10, 0, 0)"
     },
     "execution_count": 3,
     "metadata": {},
     "output_type": "execute_result"
    }
   ],
   "source": [
    "parser.parse(\"2022-10-10\")"
   ],
   "metadata": {
    "collapsed": false,
    "pycharm": {
     "name": "#%%\n"
    }
   }
  },
  {
   "cell_type": "code",
   "execution_count": null,
   "outputs": [],
   "source": [],
   "metadata": {
    "collapsed": false,
    "pycharm": {
     "name": "#%%\n"
    }
   }
  }
 ],
 "metadata": {
  "kernelspec": {
   "display_name": "Python 3",
   "language": "python",
   "name": "python3"
  },
  "language_info": {
   "codemirror_mode": {
    "name": "ipython",
    "version": 2
   },
   "file_extension": ".py",
   "mimetype": "text/x-python",
   "name": "python",
   "nbconvert_exporter": "python",
   "pygments_lexer": "ipython2",
   "version": "2.7.6"
  }
 },
 "nbformat": 4,
 "nbformat_minor": 0
}