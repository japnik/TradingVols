{
 "cells": [
  {
   "cell_type": "code",
   "execution_count": 3,
   "metadata": {
    "collapsed": true
   },
   "outputs": [
    {
     "data": {
      "text/plain": "<IB connected to 127.0.0.1:7497 clientId=20>"
     },
     "execution_count": 3,
     "metadata": {},
     "output_type": "execute_result"
    }
   ],
   "source": [
    "import math\n",
    "\n",
    "from ib_insync import *\n",
    "util.startLoop()\n",
    "\n",
    "ib = IB()\n",
    "ib.client.setConnectOptions('+PACEAPI')\n",
    "ib.connect('127.0.0.1', 7497, clientId=20)"
   ]
  },
  {
   "cell_type": "code",
   "execution_count": 60,
   "outputs": [],
   "source": [
    "import numpy as np\n",
    "import yahoo_fin.stock_info as si\n",
    "import requests\n",
    "import pandas as pd\n",
    "import datetime as dt\n",
    "import os\n",
    "import os.path\n",
    "from dateutil.relativedelta import relativedelta\n",
    "from py_vollib.black.greeks.analytical import delta\n",
    "from Scripts.Utils import trading_utils\n",
    "import math\n",
    "from dateutil import parser\n",
    "import yfinance as yf\n",
    "from scipy import interpolate\n",
    "from decimal import Decimal"
   ],
   "metadata": {
    "collapsed": false,
    "pycharm": {
     "name": "#%%\n"
    }
   }
  },
  {
   "cell_type": "code",
   "execution_count": 82,
   "outputs": [],
   "source": [
    "def FindMinMaxStrike(expiry, atm_volatility, std_to_look_upto, atm_strike):\n",
    "    time_to_expiry = trading_utils.tte(dt.datetime.now(), parser.parse(expiry))\n",
    "    variance_till_expiry = atm_volatility * atm_volatility * time_to_expiry\n",
    "    vol_till_expiry = math.sqrt(variance_till_expiry)\n",
    "    percentage_to_look_upto = std_to_look_upto * vol_till_expiry\n",
    "    min_strike = atm_strike*(1 - percentage_to_look_upto*std_to_look_upto)\n",
    "    max_strike = atm_strike*(1 + percentage_to_look_upto*std_to_look_upto)\n",
    "    return min_strike, max_strike\n",
    "\n",
    "\n",
    "def GetContractSpecsListFromYahooFin(symbol, calendar_dte_limit, std_to_look_upto):\n",
    "    stock = yf.Ticker(symbol)\n",
    "    expiry_list = stock.options\n",
    "    contract_spec_list = []\n",
    "    for expiry in expiry_list:\n",
    "        expiry_date_time = parser.parse(expiry)\n",
    "        if (expiry_date_time - dt.datetime.now()).days > calendar_dte_limit:\n",
    "            continue\n",
    "        option_chain = stock.option_chain(date = expiry)\n",
    "        put_df = option_chain.puts\n",
    "        put_df = put_df[put_df.inTheMoney == False]\n",
    "        atm_row = put_df.loc[put_df['strike'].idxmax()]\n",
    "        atm_volatility = atm_row.impliedVolatility\n",
    "        atm_strike = atm_row.strike\n",
    "        min_strike, max_strike = FindMinMaxStrike( expiry, atm_volatility, std_to_look_upto, atm_strike)\n",
    "        for i, row in put_df.iterrows():\n",
    "            strike = row['strike']\n",
    "            if min_strike < strike < max_strike:\n",
    "                contract_spec_dict = {'Symbol' : symbol, \"Expiry\" : expiry.replace(\"-\",\"\"), 'Strike' : strike, 'Type' : \"P\", 'Exchange' : \"SMART\"}\n",
    "                contract_spec_list.append(contract_spec_dict)\n",
    "        call_df = option_chain.calls\n",
    "        call_df = call_df[call_df.inTheMoney == False]\n",
    "\n",
    "        for i, row in call_df.iterrows():\n",
    "            strike = row['strike']\n",
    "            if min_strike < strike < max_strike:\n",
    "                contract_spec_dict = {'Symbol' : symbol, \"Expiry\" : expiry.replace(\"-\",\"\"), 'Strike' : strike, 'Type' : \"C\", 'Exchange' : \"SMART\"}\n",
    "                contract_spec_list.append(contract_spec_dict)\n",
    "    return contract_spec_list\n",
    "\n",
    "def GetCurrentPrice(contract):\n",
    "    temp_contract= contract\n",
    "    ib.qualifyContracts(temp_contract)\n",
    "    [ticker] = ib.reqTickers(temp_contract)\n",
    "    ib.sleep(1)\n",
    "    return ticker.marketPrice()\n",
    "def GetInputs(inputs_path):\n",
    "    df = pd.read_csv(inputs_path, header= None)\n",
    "    df_dict = dict(zip(df[0], df[1]))\n",
    "    df_dict['symbols'] = df_dict['symbols'].split(\"|\")\n",
    "    df_dict['anchors_list'] = df_dict['anchors_list'].split(\"|\")\n",
    "    df_dict['anchors_list'] = [float(a) for a in df_dict['anchors_list']]\n",
    "    df_dict['dte_limit_for_storing_implied_vols'] = int(df_dict['dte_limit_for_storing_implied_vols'])\n",
    "    df_dict['std_to_look_upto'] = float(df_dict['std_to_look_upto'])\n",
    "    return df_dict\n",
    "def GetAnchorpointVol(list_of_deltas, list_of_vols, list_of_strikes, anchors_list, interpolation_type = 'linear'):\n",
    "    anchors = anchors_list\n",
    "    vol_spine = interpolate.interp1d(list_of_deltas, list_of_vols,bounds_error=False, fill_value=-1, kind = interpolation_type)\n",
    "    strike_spine = interpolate.interp1d(list_of_deltas, list_of_strikes, bounds_error=False, fill_value=-1)\n",
    "    vols = []\n",
    "    fake_strikes = []\n",
    "    for anchor in anchors:\n",
    "        vols.append(vol_spine(anchor))\n",
    "        fake_strikes.append(strike_spine(anchor))\n",
    "    return (vols, fake_strikes)\n",
    "\n",
    "def GetContractsFromContractSpecList(contract_spec_list):\n",
    "    contracts = []\n",
    "    for contract_spec in contract_spec_list:\n",
    "        contract = Option(contract_spec['Symbol'], contract_spec['Expiry'], contract_spec['Strike'],contract_spec['Type'], contract_spec['Exchange'])\n",
    "        contracts.append(contract)\n",
    "    return contracts\n",
    "\n",
    "def GetTickersFromContracts(contracts):\n",
    "    contracts = ib.qualifyContracts(*contracts)\n",
    "    print(\"Contracts Qualified. Total number of contracts : \", len(contracts))\n",
    "    tickers = ib.reqTickers(*contracts)\n",
    "    print(\"Tickers Downloaded from IB. Sample Ticker : \", tickers[0])\n",
    "    return tickers\n",
    "\n",
    "def GenerateDataframeFromTickes(ticker_list):\n",
    "    #creating raw dataframe from option tickers\n",
    "    und_price_dict = {}\n",
    "    row_list_for_df = []\n",
    "\n",
    "    for ticker in ticker_list:\n",
    "        if ticker.modelGreeks == None:\n",
    "            continue\n",
    "        expiry = dt.datetime.strptime(ticker.contract.lastTradeDateOrContractMonth , '%Y%m%d').date()\n",
    "        strike = ticker.contract.strike\n",
    "        kind = ticker.contract.right\n",
    "        if ticker.modelGreeks.undPrice == None:\n",
    "            if symbol in  und_price_dict:\n",
    "                und_price = und_price_dict[symbol]\n",
    "            else:\n",
    "                und_price = GetCurrentPrice(Stock(symbol, 'SMART', 'USD'))\n",
    "                und_price_dict[symbol] = und_price\n",
    "        else:\n",
    "            und_price = ticker.modelGreeks.undPrice\n",
    "            und_price_dict[symbol] = und_price\n",
    "        bid_price = ticker.bid\n",
    "        ask_price = ticker.ask\n",
    "        mid_price = (bid_price+ask_price)/2\n",
    "        last_price = ticker.last\n",
    "        volume = ticker.volume\n",
    "        ib_bid_delta = ticker.bidGreeks.delta\n",
    "        data_collection_time = dt.datetime.now()\n",
    "        ticker_dict_temp = {'data_collection_time' : data_collection_time, 'symbol' : symbol , 'expiry' : expiry, 'strike' : strike, 'kind': kind, 'und_price' : und_price,\n",
    "                       'bid_price': bid_price, 'ask_price' : ask_price, 'mid_price' : mid_price,\n",
    "                       'last_price' : last_price, 'volume' : volume, 'ib_bid_delta' : ib_bid_delta }\n",
    "        row_list_for_df.append(ticker_dict_temp)\n",
    "    df = pd.DataFrame(row_list_for_df)\n",
    "    df['tte'] = df.apply(lambda x : trading_utils.tte( x.data_collection_time, dt.datetime.combine(x.expiry, dt.datetime.min.time())), axis = 1)\n",
    "    df['implied_vol_mid_point'] = df.apply(lambda x : trading_utils.bs_implied_vol(x.und_price, x.strike, x.tte, x.kind, x.mid_price), axis= 1)\n",
    "    df['mid_point_delta'] =  df.apply(lambda x : trading_utils.bs_delta(x.und_price, x.strike, x.tte, x.kind, x.implied_vol_mid_point), axis = 1)\n",
    "    df['mid_point_call_delta'] = df.apply(lambda x : x.mid_point_delta if x.mid_point_delta > 0 else (1 - x.mid_point_delta*-1), axis = 1)\n",
    "    return df\n",
    "\n",
    "\n",
    "def GenerateNeptuneDataframeFromOptionData(single_df, anchors_list):\n",
    "    neptune_list_for_df = []\n",
    "    for symbol in single_df.symbol.unique():\n",
    "        for expiry in single_df.expiry.unique():\n",
    "            single_df_temp = single_df[(single_df.expiry == expiry)& (single_df.symbol == symbol)]\n",
    "            if single_df_temp.shape[0] == 0:\n",
    "                continue\n",
    "            list_of_deltas = single_df_temp.mid_point_call_delta.tolist()\n",
    "            list_of_vols = single_df_temp.implied_vol_mid_point.tolist()\n",
    "            list_of_strikes = single_df_temp.strike.tolist()\n",
    "            (vols, fake_strikes) = GetAnchorpointVol(list_of_deltas, list_of_vols, list_of_strikes, anchors_list)\n",
    "            tte = single_df_temp.tte.iloc[0]\n",
    "            und_price = single_df_temp.und_price.iloc[0]\n",
    "            temp_dict = {'symbol' :  symbol, 'expiry' : expiry, 'tte' : tte, 'und_price': und_price}\n",
    "            i = 0\n",
    "            for anchor in anchors_list:\n",
    "                key = str(anchor)\n",
    "                value = vols[i][()]\n",
    "                temp_dict[key] = value\n",
    "                key1 = str(anchor)+ '_str'\n",
    "                value1 = fake_strikes[i][()]\n",
    "                temp_dict[key1] = value1\n",
    "                i = i +1\n",
    "            neptune_list_for_df.append(temp_dict)\n",
    "    neptune_df = pd.DataFrame(neptune_list_for_df)\n",
    "    return neptune_df\n",
    "\n",
    "def AddToImpliedFile(implied_df, symbol, data_path, symbol_kind):\n",
    "    file_path = data_path + \"/\" + symbol_kind + \"/\" + symbol + \"/implied.csv\"\n",
    "    file_exist = os.path.exists(file_path)\n",
    "    if file_exist:\n",
    "        implied_df.to_csv(file_path, mode='a', index=False, header=False)\n",
    "    else:\n",
    "        implied_df.to_csv(file_path, index = False)\n",
    "\n",
    "\n",
    "def AddImpliedData(symbol, data_path, symbol_kind, dte_limit, anchors_list, std_to_look_upto):\n",
    "    contract_spec_list = GetContractSpecsListFromYahooFin(symbol, dte_limit, std_to_look_upto)\n",
    "    contracts = GetContractsFromContractSpecList(contract_spec_list)\n",
    "    tickers = GetTickersFromContracts(contracts)\n",
    "    df = GenerateDataframeFromTickes(tickers)\n",
    "    neptune_df = GenerateNeptuneDataframeFromOptionData(df,anchors_list)\n",
    "    neptune_df['data_collection_time'] = dt.datetime.now()\n",
    "    AddToImpliedFile(neptune_df, symbol, data_path, symbol_kind)\n",
    "    return\n",
    "\n",
    "\n",
    "\n",
    "\n"
   ],
   "metadata": {
    "collapsed": false,
    "pycharm": {
     "name": "#%%\n"
    }
   }
  },
  {
   "cell_type": "code",
   "execution_count": 83,
   "outputs": [],
   "source": [
    "inputs_path = \"./../../Inputs/historical_data_inputs.csv\"\n",
    "data_path = \"./../../HistoricalData\"\n",
    "inputs_dict = GetInputs(inputs_path)\n",
    "dte_limit = inputs_dict['dte_limit_for_storing_implied_vols']\n",
    "anchors_list = inputs_dict['anchors_list']\n",
    "std_to_look_upto = inputs_dict['std_to_look_upto']"
   ],
   "metadata": {
    "collapsed": false,
    "pycharm": {
     "name": "#%%\n"
    }
   }
  },
  {
   "cell_type": "code",
   "execution_count": 84,
   "outputs": [
    {
     "name": "stdout",
     "output_type": "stream",
     "text": [
      "Contracts Qualified. Total number of contracts :  18\n",
      "Tickers Downloaded from IB. Sample Ticker :  Ticker(contract=Option(conId=586424353, symbol='AAPL', lastTradeDateOrContractMonth='20220930', strike=133.0, right='P', multiplier='100', exchange='SMART', currency='USD', localSymbol='AAPL  220930P00133000', tradingClass='AAPL'), time=datetime.datetime(2022, 9, 29, 17, 0, 34, 243789, tzinfo=datetime.timezone.utc), bid=0.1, bidSize=12282.0, ask=0.11, askSize=541.0, last=0.11, lastSize=1.0, volume=1756.0, high=0.13, low=0.06, close=0.05, halted=0.0, bidGreeks=OptionComputation(tickAttrib=0, impliedVol=0.7082269803195991, delta=-0.04414774407122382, optPrice=0.10000000149011612, pvDividend=0.0, gamma=0.01672088192669689, vega=0.007113771446483466, theta=-0.10000000149011612, undPrice=142.0780029296875), askGreeks=OptionComputation(tickAttrib=0, impliedVol=0.7222919710320717, delta=-0.047066382999816726, optPrice=0.10999999940395355, pvDividend=0.0, gamma=0.017286759622053276, vega=0.007115090085649103, theta=-0.10999999940395355, undPrice=142.0780029296875), lastGreeks=OptionComputation(tickAttrib=0, impliedVol=0.7153476135256887, delta=-0.045639797734218786, optPrice=0.10999999940395355, pvDividend=0.0, gamma=0.0170145542501308, vega=0.007114435408741973, theta=-0.10999999940395355, undPrice=142.0780029296875), modelGreeks=OptionComputation(tickAttrib=0, impliedVol=0.7197514956222922, delta=-0.04619784121780303, optPrice=0.11046103389377876, pvDividend=0.0, gamma=0.017078900415360913, vega=0.007115309285504801, theta=-0.11046103389377876, undPrice=142.10000610351562))\n",
      "Contracts Qualified. Total number of contracts :  11\n",
      "Tickers Downloaded from IB. Sample Ticker :  Ticker(contract=Option(conId=586502474, symbol='MSFT', lastTradeDateOrContractMonth='20220930', strike=222.5, right='P', multiplier='100', exchange='SMART', currency='USD', localSymbol='MSFT  220930P00222500', tradingClass='MSFT'), time=datetime.datetime(2022, 9, 29, 17, 0, 38, 241224, tzinfo=datetime.timezone.utc), bid=0.16, bidSize=449.0, ask=0.17, askSize=931.0, last=0.17, lastSize=1.0, volume=597.0, high=0.34, low=0.12, close=0.12, halted=0.0, bidGreeks=OptionComputation(tickAttrib=0, impliedVol=0.6104643385454553, delta=-0.04709659568077815, optPrice=0.1599999964237213, pvDividend=0.0, gamma=0.012355305027333573, vega=0.011835241535031515, theta=-0.1599999964237213, undPrice=235.2899932861328), askGreeks=OptionComputation(tickAttrib=0, impliedVol=0.6189246203941188, delta=-0.0491215402429751, optPrice=0.17000000178813934, pvDividend=0.0, gamma=0.012621720789722487, vega=0.011842022225689613, theta=-0.17000000178813934, undPrice=235.2899932861328), lastGreeks=OptionComputation(tickAttrib=0, impliedVol=0.6179287561415797, delta=-0.04888605412648533, optPrice=0.17000000178813934, pvDividend=0.0, gamma=0.012591350566590677, vega=0.011838834975954782, theta=-0.17000000178813934, undPrice=235.2899932861328), modelGreeks=OptionComputation(tickAttrib=0, impliedVol=0.6132904477254435, delta=-0.04800556185224245, optPrice=0.1624024469756665, pvDividend=0.0, gamma=0.01249659673769695, vega=0.01183577653876458, theta=-0.1624024469756665, undPrice=235.27000427246094))\n",
      "Contracts Qualified. Total number of contracts :  17\n",
      "Tickers Downloaded from IB. Sample Ticker :  Ticker(contract=Option(conId=586429188, symbol='AMZN', lastTradeDateOrContractMonth='20220930', strike=106.0, right='P', multiplier='100', exchange='SMART', currency='USD', localSymbol='AMZN  220930P00106000', tradingClass='AMZN'), time=datetime.datetime(2022, 9, 29, 17, 0, 40, 246208, tzinfo=datetime.timezone.utc), bid=0.07, bidSize=4379.0, ask=0.08, askSize=2504.0, last=0.07, lastSize=14.0, volume=1057.0, high=0.16, low=0.06, close=0.06, halted=0.0, bidGreeks=OptionComputation(tickAttrib=0, impliedVol=0.784693565815016, delta=-0.0351499788762388, optPrice=0.07000000029802322, pvDividend=0.0, gamma=0.01558168046476207, vega=0.005702752173445749, theta=-0.07000000029802322, undPrice=114.53459930419922), askGreeks=OptionComputation(tickAttrib=0, impliedVol=0.8022419893230238, delta=-0.038598339547836674, optPrice=0.07999999821186066, pvDividend=0.0, gamma=0.016417779162108504, vega=0.005703654652270074, theta=-0.07999999821186066, undPrice=114.53459930419922), lastGreeks=OptionComputation(tickAttrib=0, impliedVol=0.7993973894355035, delta=-0.03804973623066295, optPrice=0.07000000029802322, pvDividend=0.0, gamma=0.016288255277001056, vega=0.005703512464070429, theta=-0.07000000029802322, undPrice=114.53459930419922), modelGreeks=OptionComputation(tickAttrib=0, impliedVol=0.7969868283315242, delta=-0.037581746421972005, optPrice=0.07790090062236227, pvDividend=0.0, gamma=0.016176719538867852, vega=0.005703390749097009, theta=-0.07790090062236227, undPrice=114.53459930419922))\n",
      "Contracts Qualified. Total number of contracts :  23\n",
      "Tickers Downloaded from IB. Sample Ticker :  Ticker(contract=Option(conId=586994345, symbol='META', lastTradeDateOrContractMonth='20220930', strike=126.0, right='P', multiplier='100', exchange='SMART', currency='USD', localSymbol='META  220930P00126000', tradingClass='META'), time=datetime.datetime(2022, 9, 29, 17, 0, 44, 91392, tzinfo=datetime.timezone.utc), bid=0.07, bidSize=1141.0, ask=0.08, askSize=2214.0, last=0.07, lastSize=1.0, volume=497.0, high=0.19, low=0.05, close=0.06, bidGreeks=OptionComputation(tickAttrib=0, impliedVol=0.8204458186645349, delta=-0.0278847586780879, optPrice=0.07000000029802322, pvDividend=0.0, gamma=0.010239868724794049, vega=0.004730035560282564, theta=-0.07000000029802322, undPrice=137.2866973876953), askGreeks=OptionComputation(tickAttrib=0, impliedVol=0.8416006737283016, delta=-0.030790252867720375, optPrice=0.07999999821186066, pvDividend=0.0, gamma=0.010863563849083867, vega=0.004731132687594508, theta=-0.07999999821186066, undPrice=137.2866973876953), lastGreeks=OptionComputation(tickAttrib=0, impliedVol=0.8281560322704424, delta=-0.028836125081561994, optPrice=0.07000000029802322, pvDividend=0.0, gamma=0.010436708001937491, vega=0.004730566281787155, theta=-0.07000000029802322, undPrice=137.2993927001953), modelGreeks=OptionComputation(tickAttrib=0, impliedVol=0.8239944133892263, delta=-0.028382637707298312, optPrice=0.07009989826788109, pvDividend=0.0, gamma=0.010349940766950207, vega=0.004730187685366247, theta=-0.07009989826788109, undPrice=137.2866973876953))\n",
      "Contracts Qualified. Total number of contracts :  22\n",
      "Tickers Downloaded from IB. Sample Ticker :  Ticker(contract=Option(conId=579367174, symbol='TSLA', lastTradeDateOrContractMonth='20220930', strike=241.67, right='P', multiplier='100', exchange='SMART', currency='USD', localSymbol='TSLA  220930P00241670', tradingClass='TSLA'), time=datetime.datetime(2022, 9, 29, 17, 0, 50, 55104, tzinfo=datetime.timezone.utc), bid=0.17, bidSize=1210.0, ask=0.18, askSize=588.0, last=0.17, lastSize=1.0, volume=986.0, high=0.28, low=0.07, close=0.1, halted=0.0, bidGreeks=OptionComputation(tickAttrib=0, impliedVol=1.0263253370925625, delta=-0.0272592050336264, optPrice=0.17000000178813934, pvDividend=0.0, gamma=0.004097044573694048, vega=0.00917747880223313, theta=-0.17000000178813934, undPrice=269.1199951171875), askGreeks=OptionComputation(tickAttrib=0, impliedVol=1.0372259203522936, delta=-0.02846074366861861, optPrice=0.18000000715255737, pvDividend=0.0, gamma=0.004205195953232845, vega=0.009178085646074252, theta=-0.18000000715255737, undPrice=269.1199951171875), lastGreeks=OptionComputation(tickAttrib=0, impliedVol=1.0343525362502004, delta=-0.028146506402393235, optPrice=0.17000000178813934, pvDividend=0.0, gamma=0.004177217956451024, vega=0.009177932721352172, theta=-0.17000000178813934, undPrice=269.1199951171875), modelGreeks=OptionComputation(tickAttrib=0, impliedVol=1.035285108891717, delta=-0.028288475670285418, optPrice=0.172683020106354, pvDividend=0.0, gamma=0.004191510708574311, vega=0.009177827194872812, theta=-0.172683020106354, undPrice=269.1099853515625))\n",
      "Contracts Qualified. Total number of contracts :  11\n",
      "Tickers Downloaded from IB. Sample Ticker :  Ticker(contract=Option(conId=578980839, symbol='OXY', lastTradeDateOrContractMonth='20220930', strike=58.0, right='P', multiplier='100', exchange='SMART', currency='USD', localSymbol='OXY   220930P00058000', tradingClass='OXY'), time=datetime.datetime(2022, 9, 29, 17, 0, 51, 375175, tzinfo=datetime.timezone.utc), bid=0.04, bidSize=1643.0, ask=0.05, askSize=159.0, last=0.05, lastSize=2.0, volume=428.0, high=0.22, low=0.05, close=0.17, halted=0.0, bidGreeks=OptionComputation(tickAttrib=0, impliedVol=0.7909773841482454, delta=-0.03802741809069163, optPrice=0.03999999910593033, pvDividend=0.0, gamma=0.030095118313598936, vega=0.003119436104501737, theta=-0.03999999910593033, undPrice=62.620000000000005), askGreeks=OptionComputation(tickAttrib=0, impliedVol=0.8230504563941266, delta=-0.04405915829470834, optPrice=0.05000000074505806, pvDividend=0.0, gamma=0.03259437508441615, vega=0.0031203261323736117, theta=-0.05000000074505806, undPrice=62.620000000000005), lastGreeks=OptionComputation(tickAttrib=0, impliedVol=0.8168533979768662, delta=-0.04293098664827772, optPrice=0.05000000074505806, pvDividend=0.0, gamma=0.03214935794836622, vega=0.003120167702480879, theta=-0.05000000074505806, undPrice=62.620000000000005), modelGreeks=OptionComputation(tickAttrib=0, impliedVol=0.801425117260296, delta=-0.04004576778490614, optPrice=0.04610837734782731, pvDividend=0.0, gamma=0.030964284931882413, vega=0.003119728100827175, theta=-0.04610837734782731, undPrice=62.620000000000005))\n"
     ]
    }
   ],
   "source": [
    "for symbol in inputs_dict['symbols']:\n",
    "    AddImpliedData(symbol, data_path, \"stocks\", dte_limit, anchors_list, std_to_look_upto)\n",
    "\n"
   ],
   "metadata": {
    "collapsed": false,
    "pycharm": {
     "name": "#%%\n"
    }
   }
  },
  {
   "cell_type": "code",
   "execution_count": 85,
   "outputs": [],
   "source": [
    "ib.disconnect()"
   ],
   "metadata": {
    "collapsed": false,
    "pycharm": {
     "name": "#%%\n"
    }
   }
  },
  {
   "cell_type": "code",
   "execution_count": null,
   "outputs": [],
   "source": [],
   "metadata": {
    "collapsed": false,
    "pycharm": {
     "name": "#%%\n"
    }
   }
  }
 ],
 "metadata": {
  "kernelspec": {
   "display_name": "Python 3",
   "language": "python",
   "name": "python3"
  },
  "language_info": {
   "codemirror_mode": {
    "name": "ipython",
    "version": 2
   },
   "file_extension": ".py",
   "mimetype": "text/x-python",
   "name": "python",
   "nbconvert_exporter": "python",
   "pygments_lexer": "ipython2",
   "version": "2.7.6"
  }
 },
 "nbformat": 4,
 "nbformat_minor": 0
}