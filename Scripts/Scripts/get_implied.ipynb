{
 "cells": [
  {
   "cell_type": "code",
   "execution_count": 3,
   "metadata": {
    "collapsed": true
   },
   "outputs": [
    {
     "data": {
      "text/plain": "<IB connected to 127.0.0.1:7497 clientId=20>"
     },
     "execution_count": 3,
     "metadata": {},
     "output_type": "execute_result"
    }
   ],
   "source": [
    "import math\n",
    "\n",
    "from ib_insync import *\n",
    "util.startLoop()\n",
    "\n",
    "ib = IB()\n",
    "ib.client.setConnectOptions('+PACEAPI')\n",
    "ib.connect('127.0.0.1', 7497, clientId=20)"
   ]
  },
  {
   "cell_type": "code",
   "execution_count": 4,
   "outputs": [],
   "source": [
    "import numpy as np\n",
    "import yahoo_fin.stock_info as si\n",
    "import requests\n",
    "import pandas as pd\n",
    "import datetime as dt\n",
    "import os\n",
    "import os.path\n",
    "from dateutil.relativedelta import relativedelta\n",
    "from py_vollib.black.greeks.analytical import delta\n",
    "from Scripts.Utils import trading_utils\n",
    "import math\n",
    "from dateutil import parser\n",
    "import yfinance as yf"
   ],
   "metadata": {
    "collapsed": false,
    "pycharm": {
     "name": "#%%\n"
    }
   }
  },
  {
   "cell_type": "code",
   "execution_count": 5,
   "outputs": [],
   "source": [
    "def FindMinMaxStrike(expiry, atm_volatility, std_to_look_upto, atm_strike):\n",
    "    time_to_expiry = trading_utils.tte(dt.datetime.now(), parser.parse(expiry))\n",
    "    variance_till_expiry = atm_volatility * atm_volatility * time_to_expiry\n",
    "    vol_till_expiry = math.sqrt(variance_till_expiry)\n",
    "    percentage_to_look_upto = std_to_look_upto * vol_till_expiry\n",
    "    min_strike = atm_strike*(1 - percentage_to_look_upto*std_to_look_upto)\n",
    "    max_strike = atm_strike*(1 + percentage_to_look_upto*std_to_look_upto)\n",
    "    return min_strike, max_strike\n",
    "\n",
    "\n",
    "def GetContractSpecsListFromYahooFin(symbol, calendar_dte_limit, std_to_look_upto):\n",
    "    stock = yf.Ticker(symbol)\n",
    "    expiry_list = stock.options\n",
    "    contract_spec_list = []\n",
    "    for expiry in expiry_list:\n",
    "        expiry_date_time = parser.parse(expiry)\n",
    "        if (expiry_date_time - dt.datetime.now()).days > calendar_dte_limit:\n",
    "            continue\n",
    "        option_chain = stock.option_chain(date = expiry)\n",
    "        put_df = option_chain.puts\n",
    "        put_df = put_df[put_df.inTheMoney == False]\n",
    "        atm_row = put_df.loc[put_df['strike'].idxmax()]\n",
    "        atm_volatility = atm_row.impliedVolatility\n",
    "        atm_strike = atm_row.strike\n",
    "        min_strike, max_strike = FindMinMaxStrike( expiry, atm_volatility, std_to_look_upto, atm_strike)\n",
    "        for i, row in put_df.iterrows():\n",
    "            strike = row['strike']\n",
    "            if min_strike < strike < max_strike:\n",
    "                contract_spec_dict = {'Symbol' : symbol, \"Expiry\" : expiry.replace(\"-\",\"\"), 'Strike' : strike, 'Type' : \"P\", 'Exchange' : \"SMART\"}\n",
    "                contract_spec_list.append(contract_spec_dict)\n",
    "        call_df = option_chain.calls\n",
    "        call_df = call_df[call_df.inTheMoney == False]\n",
    "\n",
    "        for i, row in call_df.iterrows():\n",
    "            strike = row['strike']\n",
    "            if min_strike < strike < max_strike:\n",
    "                contract_spec_dict = {'Symbol' : symbol, \"Expiry\" : expiry.replace(\"-\",\"\"), 'Strike' : strike, 'Type' : \"C\", 'Exchange' : \"SMART\"}\n",
    "                contract_spec_list.append(contract_spec_dict)\n",
    "    return contract_spec_list\n",
    "\n",
    "def GetCurrentPrice(contract):\n",
    "    temp_contract= contract\n",
    "    ib.qualifyContracts(temp_contract)\n",
    "    [ticker] = ib.reqTickers(temp_contract)\n",
    "    ib.sleep(1)\n",
    "    return ticker.marketPrice()"
   ],
   "metadata": {
    "collapsed": false,
    "pycharm": {
     "name": "#%%\n"
    }
   }
  },
  {
   "cell_type": "code",
   "execution_count": 6,
   "outputs": [],
   "source": [
    "# inputs_path = \"./../../Inputs/historical_data_inputs.csv\"\n",
    "# data_path = \"./../../HistoricalData\"\n",
    "# interval_time_list = ['1 day', '1 hour', '10 mins']\n",
    "# inputs_dict = GetInputs(inputs_path)\n"
   ],
   "metadata": {
    "collapsed": false,
    "pycharm": {
     "name": "#%%\n"
    }
   }
  },
  {
   "cell_type": "code",
   "execution_count": 7,
   "outputs": [],
   "source": [
    "symbol = 'AAPL'"
   ],
   "metadata": {
    "collapsed": false,
    "pycharm": {
     "name": "#%%\n"
    }
   }
  },
  {
   "cell_type": "code",
   "execution_count": 8,
   "outputs": [],
   "source": [
    "contract_spec_list = GetContractSpecsListFromYahooFin(symbol, 20, 1.5)"
   ],
   "metadata": {
    "collapsed": false,
    "pycharm": {
     "name": "#%%\n"
    }
   }
  },
  {
   "cell_type": "code",
   "execution_count": 9,
   "outputs": [],
   "source": [
    "contracts = []\n",
    "for contract_spec in contract_spec_list:\n",
    "    contract = Option(contract_spec['Symbol'], contract_spec['Expiry'], contract_spec['Strike'],contract_spec['Type'], contract_spec['Exchange'])\n",
    "    contracts.append(contract)"
   ],
   "metadata": {
    "collapsed": false,
    "pycharm": {
     "name": "#%%\n"
    }
   }
  },
  {
   "cell_type": "code",
   "execution_count": 10,
   "outputs": [
    {
     "name": "stdout",
     "output_type": "stream",
     "text": [
      "Total number of contracts :  74\n",
      "Sample Ticker :  Ticker(contract=Option(conId=586424433, symbol='AAPL', lastTradeDateOrContractMonth='20220930', strike=138.0, right='P', multiplier='100', exchange='SMART', currency='USD', localSymbol='AAPL  220930P00138000', tradingClass='AAPL'), time=datetime.datetime(2022, 9, 27, 19, 6, 58, 174484, tzinfo=datetime.timezone.utc), bid=0.13, bidSize=4984.0, ask=0.14, askSize=4153.0, last=0.13, lastSize=1.0, volume=2955.0, high=0.24, low=0.09, close=0.26, halted=0.0, bidGreeks=OptionComputation(tickAttrib=0, impliedVol=0.5995664105156073, delta=-0.03901627221480768, optPrice=0.12999999523162842, pvDividend=0.0, gamma=0.010182513160454126, vega=0.012249066948213483, theta=-0.11481992371210853, undPrice=151.6699981689453), askGreeks=OptionComputation(tickAttrib=0, impliedVol=0.6077430085470688, delta=-0.04104575449425753, optPrice=0.14000000059604645, pvDividend=0.0, gamma=0.010467785944867247, vega=0.012251847180607622, theta=-0.12128015079424835, undPrice=151.6699981689453), lastGreeks=OptionComputation(tickAttrib=0, impliedVol=0.5972743030239909, delta=-0.038437307525098455, optPrice=0.12999999523162842, pvDividend=0.0, gamma=0.010099043218723151, vega=0.012248303781613706, theta=-0.11300922826465641, undPrice=151.6699981689453), modelGreeks=OptionComputation(tickAttrib=0, impliedVol=0.6055052030006576, delta=-0.040707203013470694, optPrice=0.14182563382084123, pvDividend=0.0, gamma=0.01043713552901334, vega=0.012250455624910339, theta=-0.1200033362933501, undPrice=151.64999389648438))\n"
     ]
    }
   ],
   "source": [
    "contracts = ib.qualifyContracts(*contracts)\n",
    "print(\"Total number of contracts : \", len(contracts))\n",
    "tickers = ib.reqTickers(*contracts)\n",
    "print(\"Sample Ticker : \", tickers[0])"
   ],
   "metadata": {
    "collapsed": false,
    "pycharm": {
     "name": "#%%\n"
    }
   }
  },
  {
   "cell_type": "code",
   "execution_count": 11,
   "outputs": [],
   "source": [
    "ticker_list= tickers"
   ],
   "metadata": {
    "collapsed": false,
    "pycharm": {
     "name": "#%%\n"
    }
   }
  },
  {
   "cell_type": "code",
   "execution_count": 12,
   "outputs": [],
   "source": [
    "\n",
    "\n",
    "#creating raw dataframe from option tickers\n",
    "und_price_dict = {}\n",
    "row_list_for_df = []\n",
    "\n",
    "for ticker in ticker_list:\n",
    "    if ticker.modelGreeks == None:\n",
    "        continue\n",
    "    expiry = dt.datetime.strptime(ticker.contract.lastTradeDateOrContractMonth , '%Y%m%d').date()\n",
    "    strike = ticker.contract.strike\n",
    "    kind = ticker.contract.right\n",
    "    if ticker.modelGreeks.undPrice == None:\n",
    "        if symbol in  und_price_dict:\n",
    "            und_price = und_price_dict[symbol]\n",
    "        else:\n",
    "            und_price = GetCurrentPrice(Stock(symbol, 'SMART', 'USD'))\n",
    "            und_price_dict[symbol] = und_price\n",
    "    else:\n",
    "        und_price = ticker.modelGreeks.undPrice\n",
    "        und_price_dict[symbol] = und_price\n",
    "    bid_price = ticker.bid\n",
    "    ask_price = ticker.ask\n",
    "    mid_price = (bid_price+ask_price)/2\n",
    "    last_price = ticker.last\n",
    "    volume = ticker.volume\n",
    "    ib_bid_delta = ticker.bidGreeks.delta\n",
    "    data_collection_time = dt.datetime.now()\n",
    "    ticker_dict_temp = {'data_collection_time' : data_collection_time, 'symbol' : symbol , 'expiry' : expiry, 'strike' : strike, 'kind': kind, 'und_price' : und_price,\n",
    "                   'bid_price': bid_price, 'ask_price' : ask_price, 'mid_price' : mid_price,\n",
    "                   'last_price' : last_price, 'volume' : volume, 'ib_bid_delta' : ib_bid_delta }\n",
    "    row_list_for_df.append(ticker_dict_temp)\n",
    "df = pd.DataFrame(row_list_for_df)\n"
   ],
   "metadata": {
    "collapsed": false,
    "pycharm": {
     "name": "#%%\n"
    }
   }
  },
  {
   "cell_type": "code",
   "execution_count": 13,
   "outputs": [
    {
     "name": "stderr",
     "output_type": "stream",
     "text": [
      "C:\\ProgramData\\Anaconda3\\lib\\site-packages\\py_vollib\\ref_python\\black_scholes\\__init__.py:83: RuntimeWarning: invalid value encountered in sqrt\n",
      "  denominator = sigma * numpy.sqrt(t)\n"
     ]
    },
    {
     "ename": "ValueError",
     "evalue": "Wrong number of items passed 23, placement implies 1",
     "output_type": "error",
     "traceback": [
      "\u001B[1;31m---------------------------------------------------------------------------\u001B[0m",
      "\u001B[1;31mKeyError\u001B[0m                                  Traceback (most recent call last)",
      "\u001B[1;32mC:\\ProgramData\\Anaconda3\\lib\\site-packages\\pandas\\core\\indexes\\base.py\u001B[0m in \u001B[0;36mget_loc\u001B[1;34m(self, key, method, tolerance)\u001B[0m\n\u001B[0;32m   3360\u001B[0m             \u001B[1;32mtry\u001B[0m\u001B[1;33m:\u001B[0m\u001B[1;33m\u001B[0m\u001B[1;33m\u001B[0m\u001B[0m\n\u001B[1;32m-> 3361\u001B[1;33m                 \u001B[1;32mreturn\u001B[0m \u001B[0mself\u001B[0m\u001B[1;33m.\u001B[0m\u001B[0m_engine\u001B[0m\u001B[1;33m.\u001B[0m\u001B[0mget_loc\u001B[0m\u001B[1;33m(\u001B[0m\u001B[0mcasted_key\u001B[0m\u001B[1;33m)\u001B[0m\u001B[1;33m\u001B[0m\u001B[1;33m\u001B[0m\u001B[0m\n\u001B[0m\u001B[0;32m   3362\u001B[0m             \u001B[1;32mexcept\u001B[0m \u001B[0mKeyError\u001B[0m \u001B[1;32mas\u001B[0m \u001B[0merr\u001B[0m\u001B[1;33m:\u001B[0m\u001B[1;33m\u001B[0m\u001B[1;33m\u001B[0m\u001B[0m\n",
      "\u001B[1;32mC:\\ProgramData\\Anaconda3\\lib\\site-packages\\pandas\\_libs\\index.pyx\u001B[0m in \u001B[0;36mpandas._libs.index.IndexEngine.get_loc\u001B[1;34m()\u001B[0m\n",
      "\u001B[1;32mC:\\ProgramData\\Anaconda3\\lib\\site-packages\\pandas\\_libs\\index.pyx\u001B[0m in \u001B[0;36mpandas._libs.index.IndexEngine.get_loc\u001B[1;34m()\u001B[0m\n",
      "\u001B[1;32mpandas\\_libs\\hashtable_class_helper.pxi\u001B[0m in \u001B[0;36mpandas._libs.hashtable.PyObjectHashTable.get_item\u001B[1;34m()\u001B[0m\n",
      "\u001B[1;32mpandas\\_libs\\hashtable_class_helper.pxi\u001B[0m in \u001B[0;36mpandas._libs.hashtable.PyObjectHashTable.get_item\u001B[1;34m()\u001B[0m\n",
      "\u001B[1;31mKeyError\u001B[0m: 'bid_price_otm'",
      "\nThe above exception was the direct cause of the following exception:\n",
      "\u001B[1;31mKeyError\u001B[0m                                  Traceback (most recent call last)",
      "\u001B[1;32mC:\\ProgramData\\Anaconda3\\lib\\site-packages\\pandas\\core\\frame.py\u001B[0m in \u001B[0;36m_set_item_mgr\u001B[1;34m(self, key, value)\u001B[0m\n\u001B[0;32m   3750\u001B[0m         \u001B[1;32mtry\u001B[0m\u001B[1;33m:\u001B[0m\u001B[1;33m\u001B[0m\u001B[1;33m\u001B[0m\u001B[0m\n\u001B[1;32m-> 3751\u001B[1;33m             \u001B[0mloc\u001B[0m \u001B[1;33m=\u001B[0m \u001B[0mself\u001B[0m\u001B[1;33m.\u001B[0m\u001B[0m_info_axis\u001B[0m\u001B[1;33m.\u001B[0m\u001B[0mget_loc\u001B[0m\u001B[1;33m(\u001B[0m\u001B[0mkey\u001B[0m\u001B[1;33m)\u001B[0m\u001B[1;33m\u001B[0m\u001B[1;33m\u001B[0m\u001B[0m\n\u001B[0m\u001B[0;32m   3752\u001B[0m         \u001B[1;32mexcept\u001B[0m \u001B[0mKeyError\u001B[0m\u001B[1;33m:\u001B[0m\u001B[1;33m\u001B[0m\u001B[1;33m\u001B[0m\u001B[0m\n",
      "\u001B[1;32mC:\\ProgramData\\Anaconda3\\lib\\site-packages\\pandas\\core\\indexes\\base.py\u001B[0m in \u001B[0;36mget_loc\u001B[1;34m(self, key, method, tolerance)\u001B[0m\n\u001B[0;32m   3362\u001B[0m             \u001B[1;32mexcept\u001B[0m \u001B[0mKeyError\u001B[0m \u001B[1;32mas\u001B[0m \u001B[0merr\u001B[0m\u001B[1;33m:\u001B[0m\u001B[1;33m\u001B[0m\u001B[1;33m\u001B[0m\u001B[0m\n\u001B[1;32m-> 3363\u001B[1;33m                 \u001B[1;32mraise\u001B[0m \u001B[0mKeyError\u001B[0m\u001B[1;33m(\u001B[0m\u001B[0mkey\u001B[0m\u001B[1;33m)\u001B[0m \u001B[1;32mfrom\u001B[0m \u001B[0merr\u001B[0m\u001B[1;33m\u001B[0m\u001B[1;33m\u001B[0m\u001B[0m\n\u001B[0m\u001B[0;32m   3364\u001B[0m \u001B[1;33m\u001B[0m\u001B[0m\n",
      "\u001B[1;31mKeyError\u001B[0m: 'bid_price_otm'",
      "\nDuring handling of the above exception, another exception occurred:\n",
      "\u001B[1;31mValueError\u001B[0m                                Traceback (most recent call last)",
      "\u001B[1;32m~\\AppData\\Local\\Temp/ipykernel_2684/523673188.py\u001B[0m in \u001B[0;36m<module>\u001B[1;34m\u001B[0m\n\u001B[0;32m     14\u001B[0m \u001B[1;33m\u001B[0m\u001B[0m\n\u001B[0;32m     15\u001B[0m \u001B[1;31m#restructure to get otm option\u001B[0m\u001B[1;33m\u001B[0m\u001B[1;33m\u001B[0m\u001B[0m\n\u001B[1;32m---> 16\u001B[1;33m \u001B[0msingle_df\u001B[0m\u001B[1;33m[\u001B[0m\u001B[1;34m'bid_price_otm'\u001B[0m\u001B[1;33m]\u001B[0m \u001B[1;33m=\u001B[0m \u001B[0msingle_df\u001B[0m\u001B[1;33m.\u001B[0m\u001B[0mapply\u001B[0m\u001B[1;33m(\u001B[0m\u001B[1;32mlambda\u001B[0m \u001B[0mx\u001B[0m \u001B[1;33m:\u001B[0m \u001B[0mx\u001B[0m\u001B[1;33m.\u001B[0m\u001B[0mbid_price_call\u001B[0m \u001B[1;32mif\u001B[0m \u001B[0mx\u001B[0m\u001B[1;33m.\u001B[0m\u001B[0mmid_point_delta_call\u001B[0m \u001B[1;33m<\u001B[0m \u001B[1;36m0.5\u001B[0m \u001B[1;32melse\u001B[0m \u001B[0mx\u001B[0m\u001B[1;33m.\u001B[0m\u001B[0mbid_price_put\u001B[0m\u001B[1;33m,\u001B[0m \u001B[0maxis\u001B[0m \u001B[1;33m=\u001B[0m \u001B[1;36m1\u001B[0m\u001B[1;33m)\u001B[0m\u001B[1;33m\u001B[0m\u001B[1;33m\u001B[0m\u001B[0m\n\u001B[0m\u001B[0;32m     17\u001B[0m \u001B[0msingle_df\u001B[0m\u001B[1;33m[\u001B[0m\u001B[1;34m'ask_price_otm'\u001B[0m\u001B[1;33m]\u001B[0m \u001B[1;33m=\u001B[0m \u001B[0msingle_df\u001B[0m\u001B[1;33m.\u001B[0m\u001B[0mapply\u001B[0m\u001B[1;33m(\u001B[0m\u001B[1;32mlambda\u001B[0m \u001B[0mx\u001B[0m \u001B[1;33m:\u001B[0m \u001B[0mx\u001B[0m\u001B[1;33m.\u001B[0m\u001B[0mask_price_call\u001B[0m \u001B[1;32mif\u001B[0m \u001B[0mx\u001B[0m\u001B[1;33m.\u001B[0m\u001B[0mmid_point_delta_call\u001B[0m \u001B[1;33m<\u001B[0m \u001B[1;36m0.5\u001B[0m \u001B[1;32melse\u001B[0m \u001B[0mx\u001B[0m\u001B[1;33m.\u001B[0m\u001B[0mask_price_put\u001B[0m\u001B[1;33m,\u001B[0m \u001B[0maxis\u001B[0m \u001B[1;33m=\u001B[0m \u001B[1;36m1\u001B[0m\u001B[1;33m)\u001B[0m\u001B[1;33m\u001B[0m\u001B[1;33m\u001B[0m\u001B[0m\n\u001B[0;32m     18\u001B[0m \u001B[0msingle_df\u001B[0m\u001B[1;33m[\u001B[0m\u001B[1;34m'mid_price_otm'\u001B[0m\u001B[1;33m]\u001B[0m \u001B[1;33m=\u001B[0m \u001B[0msingle_df\u001B[0m\u001B[1;33m.\u001B[0m\u001B[0mapply\u001B[0m\u001B[1;33m(\u001B[0m\u001B[1;32mlambda\u001B[0m \u001B[0mx\u001B[0m \u001B[1;33m:\u001B[0m \u001B[0mx\u001B[0m\u001B[1;33m.\u001B[0m\u001B[0mmid_price_call\u001B[0m \u001B[1;32mif\u001B[0m \u001B[0mx\u001B[0m\u001B[1;33m.\u001B[0m\u001B[0mmid_point_delta_call\u001B[0m \u001B[1;33m<\u001B[0m \u001B[1;36m0.5\u001B[0m \u001B[1;32melse\u001B[0m \u001B[0mx\u001B[0m\u001B[1;33m.\u001B[0m\u001B[0mmid_price_put\u001B[0m\u001B[1;33m,\u001B[0m \u001B[0maxis\u001B[0m \u001B[1;33m=\u001B[0m \u001B[1;36m1\u001B[0m\u001B[1;33m)\u001B[0m\u001B[1;33m\u001B[0m\u001B[1;33m\u001B[0m\u001B[0m\n",
      "\u001B[1;32mC:\\ProgramData\\Anaconda3\\lib\\site-packages\\pandas\\core\\frame.py\u001B[0m in \u001B[0;36m__setitem__\u001B[1;34m(self, key, value)\u001B[0m\n\u001B[0;32m   3600\u001B[0m             \u001B[0mself\u001B[0m\u001B[1;33m.\u001B[0m\u001B[0m_setitem_array\u001B[0m\u001B[1;33m(\u001B[0m\u001B[0mkey\u001B[0m\u001B[1;33m,\u001B[0m \u001B[0mvalue\u001B[0m\u001B[1;33m)\u001B[0m\u001B[1;33m\u001B[0m\u001B[1;33m\u001B[0m\u001B[0m\n\u001B[0;32m   3601\u001B[0m         \u001B[1;32melif\u001B[0m \u001B[0misinstance\u001B[0m\u001B[1;33m(\u001B[0m\u001B[0mvalue\u001B[0m\u001B[1;33m,\u001B[0m \u001B[0mDataFrame\u001B[0m\u001B[1;33m)\u001B[0m\u001B[1;33m:\u001B[0m\u001B[1;33m\u001B[0m\u001B[1;33m\u001B[0m\u001B[0m\n\u001B[1;32m-> 3602\u001B[1;33m             \u001B[0mself\u001B[0m\u001B[1;33m.\u001B[0m\u001B[0m_set_item_frame_value\u001B[0m\u001B[1;33m(\u001B[0m\u001B[0mkey\u001B[0m\u001B[1;33m,\u001B[0m \u001B[0mvalue\u001B[0m\u001B[1;33m)\u001B[0m\u001B[1;33m\u001B[0m\u001B[1;33m\u001B[0m\u001B[0m\n\u001B[0m\u001B[0;32m   3603\u001B[0m         elif (\n\u001B[0;32m   3604\u001B[0m             \u001B[0mis_list_like\u001B[0m\u001B[1;33m(\u001B[0m\u001B[0mvalue\u001B[0m\u001B[1;33m)\u001B[0m\u001B[1;33m\u001B[0m\u001B[1;33m\u001B[0m\u001B[0m\n",
      "\u001B[1;32mC:\\ProgramData\\Anaconda3\\lib\\site-packages\\pandas\\core\\frame.py\u001B[0m in \u001B[0;36m_set_item_frame_value\u001B[1;34m(self, key, value)\u001B[0m\n\u001B[0;32m   3740\u001B[0m         \u001B[1;31m# now align rows\u001B[0m\u001B[1;33m\u001B[0m\u001B[1;33m\u001B[0m\u001B[0m\n\u001B[0;32m   3741\u001B[0m         \u001B[0marraylike\u001B[0m \u001B[1;33m=\u001B[0m \u001B[0m_reindex_for_setitem\u001B[0m\u001B[1;33m(\u001B[0m\u001B[0mvalue\u001B[0m\u001B[1;33m,\u001B[0m \u001B[0mself\u001B[0m\u001B[1;33m.\u001B[0m\u001B[0mindex\u001B[0m\u001B[1;33m)\u001B[0m\u001B[1;33m\u001B[0m\u001B[1;33m\u001B[0m\u001B[0m\n\u001B[1;32m-> 3742\u001B[1;33m         \u001B[0mself\u001B[0m\u001B[1;33m.\u001B[0m\u001B[0m_set_item_mgr\u001B[0m\u001B[1;33m(\u001B[0m\u001B[0mkey\u001B[0m\u001B[1;33m,\u001B[0m \u001B[0marraylike\u001B[0m\u001B[1;33m)\u001B[0m\u001B[1;33m\u001B[0m\u001B[1;33m\u001B[0m\u001B[0m\n\u001B[0m\u001B[0;32m   3743\u001B[0m \u001B[1;33m\u001B[0m\u001B[0m\n\u001B[0;32m   3744\u001B[0m     \u001B[1;32mdef\u001B[0m \u001B[0m_iset_item_mgr\u001B[0m\u001B[1;33m(\u001B[0m\u001B[0mself\u001B[0m\u001B[1;33m,\u001B[0m \u001B[0mloc\u001B[0m\u001B[1;33m:\u001B[0m \u001B[0mint\u001B[0m \u001B[1;33m|\u001B[0m \u001B[0mslice\u001B[0m \u001B[1;33m|\u001B[0m \u001B[0mnp\u001B[0m\u001B[1;33m.\u001B[0m\u001B[0mndarray\u001B[0m\u001B[1;33m,\u001B[0m \u001B[0mvalue\u001B[0m\u001B[1;33m)\u001B[0m \u001B[1;33m->\u001B[0m \u001B[1;32mNone\u001B[0m\u001B[1;33m:\u001B[0m\u001B[1;33m\u001B[0m\u001B[1;33m\u001B[0m\u001B[0m\n",
      "\u001B[1;32mC:\\ProgramData\\Anaconda3\\lib\\site-packages\\pandas\\core\\frame.py\u001B[0m in \u001B[0;36m_set_item_mgr\u001B[1;34m(self, key, value)\u001B[0m\n\u001B[0;32m   3752\u001B[0m         \u001B[1;32mexcept\u001B[0m \u001B[0mKeyError\u001B[0m\u001B[1;33m:\u001B[0m\u001B[1;33m\u001B[0m\u001B[1;33m\u001B[0m\u001B[0m\n\u001B[0;32m   3753\u001B[0m             \u001B[1;31m# This item wasn't present, just insert at end\u001B[0m\u001B[1;33m\u001B[0m\u001B[1;33m\u001B[0m\u001B[0m\n\u001B[1;32m-> 3754\u001B[1;33m             \u001B[0mself\u001B[0m\u001B[1;33m.\u001B[0m\u001B[0m_mgr\u001B[0m\u001B[1;33m.\u001B[0m\u001B[0minsert\u001B[0m\u001B[1;33m(\u001B[0m\u001B[0mlen\u001B[0m\u001B[1;33m(\u001B[0m\u001B[0mself\u001B[0m\u001B[1;33m.\u001B[0m\u001B[0m_info_axis\u001B[0m\u001B[1;33m)\u001B[0m\u001B[1;33m,\u001B[0m \u001B[0mkey\u001B[0m\u001B[1;33m,\u001B[0m \u001B[0mvalue\u001B[0m\u001B[1;33m)\u001B[0m\u001B[1;33m\u001B[0m\u001B[1;33m\u001B[0m\u001B[0m\n\u001B[0m\u001B[0;32m   3755\u001B[0m         \u001B[1;32melse\u001B[0m\u001B[1;33m:\u001B[0m\u001B[1;33m\u001B[0m\u001B[1;33m\u001B[0m\u001B[0m\n\u001B[0;32m   3756\u001B[0m             \u001B[0mself\u001B[0m\u001B[1;33m.\u001B[0m\u001B[0m_iset_item_mgr\u001B[0m\u001B[1;33m(\u001B[0m\u001B[0mloc\u001B[0m\u001B[1;33m,\u001B[0m \u001B[0mvalue\u001B[0m\u001B[1;33m)\u001B[0m\u001B[1;33m\u001B[0m\u001B[1;33m\u001B[0m\u001B[0m\n",
      "\u001B[1;32mC:\\ProgramData\\Anaconda3\\lib\\site-packages\\pandas\\core\\internals\\managers.py\u001B[0m in \u001B[0;36minsert\u001B[1;34m(self, loc, item, value)\u001B[0m\n\u001B[0;32m   1160\u001B[0m             \u001B[0mvalue\u001B[0m \u001B[1;33m=\u001B[0m \u001B[0mensure_block_shape\u001B[0m\u001B[1;33m(\u001B[0m\u001B[0mvalue\u001B[0m\u001B[1;33m,\u001B[0m \u001B[0mndim\u001B[0m\u001B[1;33m=\u001B[0m\u001B[0mself\u001B[0m\u001B[1;33m.\u001B[0m\u001B[0mndim\u001B[0m\u001B[1;33m)\u001B[0m\u001B[1;33m\u001B[0m\u001B[1;33m\u001B[0m\u001B[0m\n\u001B[0;32m   1161\u001B[0m \u001B[1;33m\u001B[0m\u001B[0m\n\u001B[1;32m-> 1162\u001B[1;33m         \u001B[0mblock\u001B[0m \u001B[1;33m=\u001B[0m \u001B[0mnew_block\u001B[0m\u001B[1;33m(\u001B[0m\u001B[0mvalues\u001B[0m\u001B[1;33m=\u001B[0m\u001B[0mvalue\u001B[0m\u001B[1;33m,\u001B[0m \u001B[0mndim\u001B[0m\u001B[1;33m=\u001B[0m\u001B[0mself\u001B[0m\u001B[1;33m.\u001B[0m\u001B[0mndim\u001B[0m\u001B[1;33m,\u001B[0m \u001B[0mplacement\u001B[0m\u001B[1;33m=\u001B[0m\u001B[0mslice\u001B[0m\u001B[1;33m(\u001B[0m\u001B[0mloc\u001B[0m\u001B[1;33m,\u001B[0m \u001B[0mloc\u001B[0m \u001B[1;33m+\u001B[0m \u001B[1;36m1\u001B[0m\u001B[1;33m)\u001B[0m\u001B[1;33m)\u001B[0m\u001B[1;33m\u001B[0m\u001B[1;33m\u001B[0m\u001B[0m\n\u001B[0m\u001B[0;32m   1163\u001B[0m \u001B[1;33m\u001B[0m\u001B[0m\n\u001B[0;32m   1164\u001B[0m         \u001B[1;32mfor\u001B[0m \u001B[0mblkno\u001B[0m\u001B[1;33m,\u001B[0m \u001B[0mcount\u001B[0m \u001B[1;32min\u001B[0m \u001B[0m_fast_count_smallints\u001B[0m\u001B[1;33m(\u001B[0m\u001B[0mself\u001B[0m\u001B[1;33m.\u001B[0m\u001B[0mblknos\u001B[0m\u001B[1;33m[\u001B[0m\u001B[0mloc\u001B[0m\u001B[1;33m:\u001B[0m\u001B[1;33m]\u001B[0m\u001B[1;33m)\u001B[0m\u001B[1;33m:\u001B[0m\u001B[1;33m\u001B[0m\u001B[1;33m\u001B[0m\u001B[0m\n",
      "\u001B[1;32mC:\\ProgramData\\Anaconda3\\lib\\site-packages\\pandas\\core\\internals\\blocks.py\u001B[0m in \u001B[0;36mnew_block\u001B[1;34m(values, placement, ndim, klass)\u001B[0m\n\u001B[0;32m   1935\u001B[0m \u001B[1;33m\u001B[0m\u001B[0m\n\u001B[0;32m   1936\u001B[0m     \u001B[0mvalues\u001B[0m\u001B[1;33m,\u001B[0m \u001B[0m_\u001B[0m \u001B[1;33m=\u001B[0m \u001B[0mextract_pandas_array\u001B[0m\u001B[1;33m(\u001B[0m\u001B[0mvalues\u001B[0m\u001B[1;33m,\u001B[0m \u001B[1;32mNone\u001B[0m\u001B[1;33m,\u001B[0m \u001B[0mndim\u001B[0m\u001B[1;33m)\u001B[0m\u001B[1;33m\u001B[0m\u001B[1;33m\u001B[0m\u001B[0m\n\u001B[1;32m-> 1937\u001B[1;33m     \u001B[0mcheck_ndim\u001B[0m\u001B[1;33m(\u001B[0m\u001B[0mvalues\u001B[0m\u001B[1;33m,\u001B[0m \u001B[0mplacement\u001B[0m\u001B[1;33m,\u001B[0m \u001B[0mndim\u001B[0m\u001B[1;33m)\u001B[0m\u001B[1;33m\u001B[0m\u001B[1;33m\u001B[0m\u001B[0m\n\u001B[0m\u001B[0;32m   1938\u001B[0m \u001B[1;33m\u001B[0m\u001B[0m\n\u001B[0;32m   1939\u001B[0m     \u001B[1;32mif\u001B[0m \u001B[0mklass\u001B[0m \u001B[1;32mis\u001B[0m \u001B[1;32mNone\u001B[0m\u001B[1;33m:\u001B[0m\u001B[1;33m\u001B[0m\u001B[1;33m\u001B[0m\u001B[0m\n",
      "\u001B[1;32mC:\\ProgramData\\Anaconda3\\lib\\site-packages\\pandas\\core\\internals\\blocks.py\u001B[0m in \u001B[0;36mcheck_ndim\u001B[1;34m(values, placement, ndim)\u001B[0m\n\u001B[0;32m   1977\u001B[0m             )\n\u001B[0;32m   1978\u001B[0m         \u001B[1;32mif\u001B[0m \u001B[0mlen\u001B[0m\u001B[1;33m(\u001B[0m\u001B[0mplacement\u001B[0m\u001B[1;33m)\u001B[0m \u001B[1;33m!=\u001B[0m \u001B[0mlen\u001B[0m\u001B[1;33m(\u001B[0m\u001B[0mvalues\u001B[0m\u001B[1;33m)\u001B[0m\u001B[1;33m:\u001B[0m\u001B[1;33m\u001B[0m\u001B[1;33m\u001B[0m\u001B[0m\n\u001B[1;32m-> 1979\u001B[1;33m             raise ValueError(\n\u001B[0m\u001B[0;32m   1980\u001B[0m                 \u001B[1;34mf\"Wrong number of items passed {len(values)}, \"\u001B[0m\u001B[1;33m\u001B[0m\u001B[1;33m\u001B[0m\u001B[0m\n\u001B[0;32m   1981\u001B[0m                 \u001B[1;34mf\"placement implies {len(placement)}\"\u001B[0m\u001B[1;33m\u001B[0m\u001B[1;33m\u001B[0m\u001B[0m\n",
      "\u001B[1;31mValueError\u001B[0m: Wrong number of items passed 23, placement implies 1"
     ]
    }
   ],
   "source": [
    "df['tte'] = df.apply(lambda x : trading_utils.tte(dt.datetime.combine(x.expiry, dt.datetime.min.time()), x.data_collection_time), axis = 1)\n",
    "df['implied_vol_mid_point'] = df.apply(lambda x : trading_utils.bs_implied_vol(x.und_price, x.strike, x.tte, x.kind, x.mid_price), axis= 1)\n",
    "df['mid_point_delta'] =  df.apply(lambda x : trading_utils.bs_delta(x.und_price, x.strike, x.tte, x.kind, x.implied_vol_mid_point), axis = 1)\n",
    "\n",
    "#restructure df to get call and put in same row\n",
    "df_calls = df[df.kind == 'C']\n",
    "df_puts = df[df.kind == 'P']\n",
    "single_df = pd.merge(df_calls, df_puts, on = ['symbol', 'expiry', 'strike'], suffixes = (\"_call\", \"_put\"))\n",
    "single_df['und_price'] = single_df.und_price_call\n",
    "single_df['tte'] = single_df.tte_call\n",
    "single_df = single_df.drop(columns = ['kind_call', 'kind_put', 'und_price_put', 'tte_put', 'und_price_call', 'tte_call' ])\n",
    "\n",
    "\n",
    "\n",
    "#restructure to get otm option\n",
    "single_df['bid_price_otm'] = single_df.apply(lambda x : x.bid_price_call if x.mid_point_delta_call < 0.5 else x.bid_price_put, axis = 1)\n",
    "single_df['ask_price_otm'] = single_df.apply(lambda x : x.ask_price_call if x.mid_point_delta_call < 0.5 else x.ask_price_put, axis = 1)\n",
    "single_df['mid_price_otm'] = single_df.apply(lambda x : x.mid_price_call if x.mid_point_delta_call < 0.5 else x.mid_price_put, axis = 1)\n",
    "single_df['implied_vol_mid_point_otm'] = single_df.apply(lambda x : x.implied_vol_mid_point_call if x.mid_point_delta_call < 0.5 else x.implied_vol_mid_point_put, axis = 1)\n",
    "single_df['mid_point_delta_otm'] = single_df.apply(lambda x : x.mid_point_delta_call if x.mid_point_delta_call < 0.5 else x.mid_point_delta_put, axis = 1)\n",
    "single_df['mid_point_call_delta_otm'] = single_df.apply(lambda x : x.mid_point_delta_otm if x.mid_point_delta_otm > 0 else (1 - x.mid_point_delta_otm*-1), axis = 1)\n",
    "\n",
    "\n",
    "#filter out the columns\n",
    "columns_to_filter = ['symbol', 'expiry', 'strike','und_price', 'tte', 'bid_price_otm',\n",
    "       'ask_price_otm', 'mid_price_otm', 'implied_vol_mid_point_otm',\n",
    "       'mid_point_delta_otm', 'mid_point_call_delta_otm']\n",
    "single_df = single_df[columns_to_filter]\n",
    "single_df = single_df.dropna()"
   ],
   "metadata": {
    "collapsed": false,
    "pycharm": {
     "name": "#%%\n"
    }
   }
  },
  {
   "cell_type": "code",
   "execution_count": 13,
   "outputs": [
    {
     "data": {
      "text/plain": "[Option(symbol='AAPL', lastTradeDateOrContractMonth='20220930', strike=150, right='C', exchange='SMART'),\n Option(symbol='AAPL', lastTradeDateOrContractMonth='20220930', strike=155, right='C', exchange='SMART')]"
     },
     "execution_count": 13,
     "metadata": {},
     "output_type": "execute_result"
    }
   ],
   "source": [
    "contracts"
   ],
   "metadata": {
    "collapsed": false,
    "pycharm": {
     "name": "#%%\n"
    }
   }
  },
  {
   "cell_type": "code",
   "execution_count": 14,
   "outputs": [
    {
     "name": "stdout",
     "output_type": "stream",
     "text": [
      "Total number of contracts :  2\n",
      "Sample Ticker :  Ticker(contract=Option(conId=578903604, symbol='AAPL', lastTradeDateOrContractMonth='20220930', strike=150.0, right='C', multiplier='100', exchange='SMART', currency='USD', localSymbol='AAPL  220930C00150000', tradingClass='AAPL'), time=datetime.datetime(2022, 9, 26, 18, 54, 14, 959144, tzinfo=datetime.timezone.utc), bid=3.8, bidSize=11682.0, ask=3.9, askSize=7395.0, last=3.8, lastSize=1.0, volume=16382.0, high=5.3, low=2.98, close=3.52, bidGreeks=OptionComputation(tickAttrib=0, impliedVol=0.46316396248079406, delta=0.5985655801679204, optPrice=3.799999952316284, pvDividend=0.0, gamma=0.05262162691316894, vega=0.06057817020981737, theta=-0.3629789040013458, undPrice=151.60000610351562), askGreeks=OptionComputation(tickAttrib=0, impliedVol=0.47142021459690153, delta=0.5972362657753542, optPrice=3.9000000953674316, pvDividend=0.0, gamma=0.051760515547668466, vega=0.06058078692103175, theta=-0.3697155693890758, undPrice=151.60000610351562), lastGreeks=OptionComputation(tickAttrib=0, impliedVol=0.46314849133091945, delta=0.5985681210529401, optPrice=3.799999952316284, pvDividend=0.0, gamma=0.05262326721010237, vega=0.06057816513447101, theta=-0.3629662805369809, undPrice=151.60000610351562), modelGreeks=OptionComputation(tickAttrib=0, impliedVol=0.46322910139560347, delta=0.598554884243905, optPrice=3.8307602589561442, pvDividend=0.0, gamma=0.0526147218060745, vega=0.060578191572954854, theta=-0.3630320531786756, undPrice=151.60000610351562))\n"
     ]
    }
   ],
   "source": [
    "contracts = ib.qualifyContracts(*contracts)\n",
    "print(\"Total number of contracts : \", len(contracts))\n",
    "tickers = ib.reqTickers(*contracts)\n",
    "print(\"Sample Ticker : \", tickers[0])"
   ],
   "metadata": {
    "collapsed": false,
    "pycharm": {
     "name": "#%%\n"
    }
   }
  },
  {
   "cell_type": "code",
   "execution_count": 1,
   "outputs": [
    {
     "ename": "NameError",
     "evalue": "name 'ib' is not defined",
     "output_type": "error",
     "traceback": [
      "\u001B[1;31m---------------------------------------------------------------------------\u001B[0m",
      "\u001B[1;31mNameError\u001B[0m                                 Traceback (most recent call last)",
      "\u001B[1;32m~\\AppData\\Local\\Temp/ipykernel_13360/1963786674.py\u001B[0m in \u001B[0;36m<module>\u001B[1;34m\u001B[0m\n\u001B[1;32m----> 1\u001B[1;33m \u001B[0mib\u001B[0m\u001B[1;33m.\u001B[0m\u001B[0mdisconnect\u001B[0m\u001B[1;33m(\u001B[0m\u001B[1;33m)\u001B[0m\u001B[1;33m\u001B[0m\u001B[1;33m\u001B[0m\u001B[0m\n\u001B[0m",
      "\u001B[1;31mNameError\u001B[0m: name 'ib' is not defined"
     ]
    }
   ],
   "source": [
    "ib.disconnect()"
   ],
   "metadata": {
    "collapsed": false,
    "pycharm": {
     "name": "#%%\n"
    }
   }
  },
  {
   "cell_type": "code",
   "execution_count": null,
   "outputs": [],
   "source": [],
   "metadata": {
    "collapsed": false,
    "pycharm": {
     "name": "#%%\n"
    }
   }
  }
 ],
 "metadata": {
  "kernelspec": {
   "display_name": "Python 3",
   "language": "python",
   "name": "python3"
  },
  "language_info": {
   "codemirror_mode": {
    "name": "ipython",
    "version": 2
   },
   "file_extension": ".py",
   "mimetype": "text/x-python",
   "name": "python",
   "nbconvert_exporter": "python",
   "pygments_lexer": "ipython2",
   "version": "2.7.6"
  }
 },
 "nbformat": 4,
 "nbformat_minor": 0
}