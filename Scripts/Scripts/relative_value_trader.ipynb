{
 "cells": [
  {
   "cell_type": "code",
   "execution_count": 119,
   "metadata": {
    "collapsed": true
   },
   "outputs": [
    {
     "data": {
      "text/plain": "<IB connected to 127.0.0.1:7497 clientId=20>"
     },
     "execution_count": 119,
     "metadata": {},
     "output_type": "execute_result"
    }
   ],
   "source": [
    "import math\n",
    "import numpy as np\n",
    "import yahoo_fin.stock_info as si\n",
    "import requests\n",
    "import pandas as pd\n",
    "import datetime as dt\n",
    "import os\n",
    "import os.path\n",
    "from dateutil.relativedelta import relativedelta\n",
    "from py_vollib.black.greeks.analytical import delta\n",
    "from Scripts.Utils import trading_utils\n",
    "import math\n",
    "from dateutil import parser\n",
    "import yfinance as yf\n",
    "from scipy import interpolate\n",
    "from decimal import Decimal\n",
    "from bisect import bisect\n",
    "\n",
    "from ib_insync import *\n",
    "util.startLoop()\n",
    "from pathlib import Path\n",
    "ib = IB()\n",
    "ib.client.setConnectOptions('+PACEAPI')\n",
    "ib.connect('127.0.0.1', 7497, clientId=20)"
   ]
  },
  {
   "cell_type": "code",
   "execution_count": 119,
   "outputs": [],
   "source": [],
   "metadata": {
    "collapsed": false,
    "pycharm": {
     "name": "#%%\n"
    }
   }
  },
  {
   "cell_type": "code",
   "execution_count": 123,
   "outputs": [],
   "source": [
    "def GetWeightsFromCsv(inputs_path):\n",
    "    df = pd.read_csv(inputs_path)\n",
    "    df = df.set_index(['symbols'])\n",
    "    return df.T.to_dict()\n",
    "\n",
    "def GetRelativeValueWeightsInputsPath():\n",
    "    current_dir = Path(os.getcwd())\n",
    "    project_dir = next(p for p in current_dir.parents if p.name == \"Trading\")\n",
    "    relative_value_path = str(project_dir) + \"\\\\Inputs\\\\relative_value_inputs_weights.csv\"\n",
    "    return relative_value_path\n",
    "\n",
    "def GetRelativeValueInputsPath():\n",
    "    current_dir = Path(os.getcwd())\n",
    "    project_dir = next(p for p in current_dir.parents if p.name == \"Trading\")\n",
    "    relative_value_path = str(project_dir) + \"\\\\Inputs\\\\relative_value_inputs.csv\"\n",
    "    return relative_value_path\n",
    "\n",
    "def GetImpliedVolsHistoricalPath():\n",
    "    current_dir = Path(os.getcwd())\n",
    "    project_dir = next(p for p in current_dir.parents if p.name == \"Trading\")\n",
    "    implied_path = str(project_dir) + \"\\\\HistoricalData\\\\stocks\\\\\" + symbol + \"\\\\implied.csv\"\n",
    "    return implied_path\n",
    "\n",
    "def GetRealizedVolsHistoricalPath():\n",
    "    current_dir = Path(os.getcwd())\n",
    "    project_dir = next(p for p in current_dir.parents if p.name == \"Trading\")\n",
    "    realized_path = str(project_dir) + \"\\\\HistoricalData\\\\stocks\\\\\" + symbol + \"\\\\realized.csv\"\n",
    "    return realized_path\n",
    "\n",
    "def GetInputs(inputs_path):\n",
    "    df = pd.read_csv(inputs_path, header= None)\n",
    "    df_dict = dict(zip(df[0], df[1]))\n",
    "    print(df_dict)\n",
    "    df_dict['time_lag_allowed'] = dt.timedelta(seconds = int(df_dict['time_lag_allowed_in_seconds']))\n",
    "    return df_dict\n",
    "def GetImpliedVolsDict(implied_vols_path, time_lag_allowed):\n",
    "    df = pd.read_csv(implied_vols_path)\n",
    "    df['data_collection_time'] = pd.to_datetime(df['data_collection_time'])\n",
    "    last_time  = df.data_collection_time.max()\n",
    "    current_time = dt.datetime.now()\n",
    "    time_difference = current_time - last_time\n",
    "    if time_difference > time_lag_allowed:\n",
    "        raise ValueError(\"Last time stored \" + str(last_time) + \". Time lag allowed : \", str(time_lag_allowed))\n",
    "    df = df[df['data_collection_time'] == last_time]\n",
    "    df = df.set_index(['expiry'])\n",
    "    df = df[['0.85', '0.7', '0.5', '0.3', '0.15', 'tte']]\n",
    "    implied_dict = df.T.to_dict()\n",
    "    return implied_dict\n",
    "\n",
    "def GetImpliedRatios(implied_ratios_path):\n",
    "    df = pd.read_csv(implied_ratios_path)\n",
    "    df = df.set_index('historical')\n",
    "    return df.columns\n",
    "def GetImpliedTheoPath():\n",
    "    current_dir = Path(os.getcwd())\n",
    "    project_dir = next(p for p in current_dir.parents if p.name == \"Trading\")\n",
    "    implied_path = str(project_dir) + \"\\\\Inputs\\\\implied_theo_ratios.csv\"\n",
    "    return implied_path\n",
    "\n",
    "def GetTheoImpliedVolsDict(realized_vols_path, time_lag_allowed):\n",
    "    df = pd.read_csv(realized_vols_path)\n",
    "    df['timestamp'] = pd.to_datetime(df['timestamp'])\n",
    "    last_time  = df.timestamp.max()\n",
    "    current_time = dt.datetime.now()\n",
    "    time_difference = current_time - last_time\n",
    "    if time_difference > time_lag_allowed:\n",
    "        raise ValueError(\"Last time stored \" + str(last_time) + \". Time lag allowed : \", str(time_lag_allowed))\n",
    "    df = df[df['timestamp'] == last_time]\n",
    "    # print(df)\n",
    "    implied_vols_theo_dict_raw = df.to_dict('records')[0]\n",
    "    implied_theo_path = GetImpliedTheoPath()\n",
    "    implied_theo_days_calculated = GetImpliedRatios(implied_theo_path)\n",
    "    implied_vols_theo = {}\n",
    "    # print(implied_vols_theo_dict_raw)\n",
    "    for day in implied_theo_days_calculated:\n",
    "        filter_string = day + \"_day_implied\"\n",
    "        subset_dict =  {k:v for k,v in implied_vols_theo_dict_raw.items() if filter_string in k}\n",
    "        implied_vols_theo[float(day)] = sum(subset_dict.values()) / len(subset_dict)\n",
    "    return implied_vols_theo\n",
    "\n",
    "\n",
    "\n",
    "\n",
    "\n"
   ],
   "metadata": {
    "collapsed": false,
    "pycharm": {
     "name": "#%%\n"
    }
   }
  },
  {
   "cell_type": "code",
   "execution_count": 124,
   "outputs": [
    {
     "name": "stdout",
     "output_type": "stream",
     "text": [
      "{'time_lag_allowed_in_seconds': 3000000}\n"
     ]
    }
   ],
   "source": [
    "inputs_path_weights = GetRelativeValueWeightsInputsPath()\n",
    "weights_dict = GetWeightsFromCsv(inputs_path_weights)\n",
    "inputs_path = GetRelativeValueInputsPath()\n",
    "inputs_dict= GetInputs(inputs_path)\n",
    "time_lag_allowed = inputs_dict['time_lag_allowed']"
   ],
   "metadata": {
    "collapsed": false,
    "pycharm": {
     "name": "#%%\n"
    }
   }
  },
  {
   "cell_type": "code",
   "execution_count": 125,
   "outputs": [
    {
     "name": "stdout",
     "output_type": "stream",
     "text": [
      "{'2022-09-30': {'0.85': 0.7626243694423094, '0.7': 0.7167426314276039, '0.5': 0.6799128023110422, '0.3': 0.6448345965468176, '0.15': 0.6227538584991178, 'tte': 0.0021825396825396}}\n",
      "{1.0: 0.4042604276329835, 2.0: 0.3965751596355624, 4.0: 0.4042605364322307, 7.0: 0.3991369754092086, 11.0: 0.394013343861916, 16.0: 0.3888897828388938, 22.0: 0.38376636889009563, 29.0: 0.37864280786707355}\n",
      "1.0 0.5499999999999793\n",
      "{'2022-09-30': {'0.85': 0.6576749990277707, '0.7': 0.619674413418569, '0.5': 0.5854654576306698, '0.3': 0.5604661581841476, '0.15': 0.5462325623139002, 'tte': 0.0021825396825396}}\n",
      "{1.0: 0.294014827368062, 2.0: 0.2955780737715727, 4.0: 0.294014823913524, 7.0: 0.29505697947844545, 11.0: 0.29609916806469994, 16.0: 0.2971413236296214, 22.0: 0.29818350530679993, 29.0: 0.2992256608717214}\n",
      "1.0 0.5499999999999793\n",
      "{'2022-09-30': {'0.85': 0.80860965994864, '0.7': 0.7582637425206747, '0.5': 0.7335178748438249, '0.3': 0.7157165872815109, '0.15': 0.7073502253654507, 'tte': 0.0021825396825396}}\n",
      "{1.0: 0.39855691360135276, 2.0: 0.4026005867571178, 4.0: 0.39855690304314956, 7.0: 0.4012526642543001, 11.0: 0.4039485092599355, 16.0: 0.406644270471086, 22.0: 0.409340094360315, 29.0: 0.41203585557146544}\n",
      "1.0 0.5499999999999793\n"
     ]
    }
   ],
   "source": [
    "for symbol in weights_dict:\n",
    "    implied_vols_path = GetImpliedVolsHistoricalPath()\n",
    "    implied_vols = GetImpliedVolsDict(implied_vols_path, time_lag_allowed)\n",
    "    print(implied_vols)\n",
    "    realized_vols_path = GetRealizedVolsHistoricalPath()\n",
    "    theo_implied_vols = GetTheoImpliedVolsDict(realized_vols_path, time_lag_allowed)\n",
    "    print(theo_implied_vols)\n",
    "    for expiry in implied_vols:\n",
    "        dte = implied_vols[expiry]['tte'] * 252\n",
    "        theo_implied_vols_anchors = sorted(theo_implied_vols.keys())\n",
    "        location = bisect(theo_implied_vols_anchors, dte)\n",
    "        print(theo_implied_vols_anchors[location], dte)\n",
    "        x1 = theo_implied_vols_anchors[location]\n",
    "        y1 = theo_implied_vols[theo_implied_vols_anchors[location]]\n",
    "        x2 = theo_implied_vols[location+1]\n",
    "        y2 = theo_implied_vols[theo_implied_vols_anchors[location+1]]\n",
    "\n",
    "        a,b = np.polyfit([x1,x2],[y1,y2])\n",
    "        theo_at_dte = a * dte + b\n",
    "        implied_vols[expiry]['ImpliedTheo'] = theo_at_dte\n",
    "    return implied_vols\n"
   ],
   "metadata": {
    "collapsed": false,
    "pycharm": {
     "name": "#%%\n"
    }
   }
  },
  {
   "cell_type": "code",
   "execution_count": 68,
   "outputs": [
    {
     "data": {
      "text/plain": "Contract(secType='ASML', conId='SMART')"
     },
     "execution_count": 68,
     "metadata": {},
     "output_type": "execute_result"
    }
   ],
   "source": [
    "contract"
   ],
   "metadata": {
    "collapsed": false,
    "pycharm": {
     "name": "#%%\n"
    }
   }
  },
  {
   "cell_type": "code",
   "execution_count": 57,
   "outputs": [
    {
     "name": "stderr",
     "output_type": "stream",
     "text": [
      "Error 320, reqId 5: Error reading request. Unable to parse data. java.lang.NumberFormatException: For input string: \"SMART\", contract: Contract(secType='ASML', conId='SMART')\n",
      "Unknown contract: Contract(secType='ASML', conId='SMART')\n"
     ]
    },
    {
     "data": {
      "text/plain": "[]"
     },
     "execution_count": 57,
     "metadata": {},
     "output_type": "execute_result"
    }
   ],
   "source": [
    "ib.qualifyContracts(contract)"
   ],
   "metadata": {
    "collapsed": false,
    "pycharm": {
     "name": "#%%\n"
    }
   }
  },
  {
   "cell_type": "code",
   "execution_count": null,
   "outputs": [],
   "source": [],
   "metadata": {
    "collapsed": false,
    "pycharm": {
     "name": "#%%\n"
    }
   }
  }
 ],
 "metadata": {
  "kernelspec": {
   "display_name": "Python 3",
   "language": "python",
   "name": "python3"
  },
  "language_info": {
   "codemirror_mode": {
    "name": "ipython",
    "version": 2
   },
   "file_extension": ".py",
   "mimetype": "text/x-python",
   "name": "python",
   "nbconvert_exporter": "python",
   "pygments_lexer": "ipython2",
   "version": "2.7.6"
  }
 },
 "nbformat": 4,
 "nbformat_minor": 0
}