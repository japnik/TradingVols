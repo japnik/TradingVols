{
 "cells": [
  {
   "cell_type": "markdown",
   "metadata": {},
   "source": [
    "# Bar data"
   ]
  },
  {
   "cell_type": "code",
   "execution_count": 1,
   "metadata": {},
   "outputs": [],
   "source": [
    "import numpy as np\n",
    "import pandas as pd\n",
    "import datetime as dt\n",
    "import os"
   ]
  },
  {
   "cell_type": "code",
   "execution_count": 2,
   "outputs": [],
   "source": [
    "def winddown(time):\n",
    "        if time < dt.time(9,30):\n",
    "            return 0.7\n",
    "        elif time < dt.time(9,45):\n",
    "            return 0.6\n",
    "        elif time < dt.time(10,30):\n",
    "            return 0.5\n",
    "        elif time < dt.time(11,30):\n",
    "            return 0.4\n",
    "        elif time < dt.time(13):\n",
    "            return 0.3\n",
    "        elif time <  dt.time(14,30):\n",
    "            return 0.25\n",
    "        elif time < dt.time(15,30):\n",
    "            return 0.15\n",
    "        elif time < dt.time(16):\n",
    "            return 0.05\n",
    "        else:\n",
    "            return 0\n",
    "\n",
    "def tte(start_time, end_time):\n",
    "    trading_days = np.busday_count( start_time.date(), end_time.date() )\n",
    "    start_time_winddown = winddown(start_time.time())\n",
    "    end_time_winddown = winddown(end_time.time())\n",
    "    total_days = start_time_winddown + 1 - end_time_winddown + trading_days -1\n",
    "    return total_days/252\n",
    "\n",
    "\n",
    "\n",
    "def UpdateRealizedData(symbol, data_path, symbol_kind, interval_time_list, realized_days_list):\n",
    "    realized_dict = {}\n",
    "    earnings_dates_list = GetEarningsDatesList(symbol, data_path, symbol_kind)\n",
    "    for interval_time in interval_time_list:\n",
    "        interval_time_string = interval_time.replace(\" \", \"_\")\n",
    "        file_path = data_path + \"/\" + symbol_kind + \"/\" + symbol + \"/\" + interval_time_string + \".csv\"\n",
    "        df = pd.read_csv(file_path)\n",
    "        df['datetime'] = pd.to_datetime(df['date'])\n",
    "        df['date'] = pd.to_datetime(df['datetime']).dt.date\n",
    "        df['change'] = df.close - df.close.shift(1)\n",
    "        df['prev_datetime'] = df['datetime'].shift(1)\n",
    "        df['prev_date'] = pd.to_datetime(df['prev_datetime']).dt.date\n",
    "        df = df[1:]\n",
    "        df['tte_from_prev_entry'] = df.apply(lambda x: tte(x['prev_datetime'], x['datetime']), axis =1)\n",
    "        df['percent_change'] = abs(df.change/df.open)\n",
    "        df['variance'] = df['percent_change'] * df['percent_change']\n",
    "        df['time_in_years_till_now'] = df.apply(lambda x : tte(x['datetime'], df['datetime'].iloc[-1]), axis = 1)\n",
    "        df['time_in_years_till_now'] = df['time_in_years_till_now'].shift(1)\n",
    "        df['time_in_days_till_now'] = df['time_in_years_till_now'] * 252.0\n",
    "        df = df[1:]\n",
    "        df = df.reset_index()\n",
    "\n",
    "\n",
    "        for num_day in realized_days_list:\n",
    "            idx = df['time_in_days_till_now'].sub(num_day).abs().idxmin()\n",
    "            subset_df = df[idx:]\n",
    "            dict_key = str(num_day)+'day_interval_'+ interval_time.replace(\" \", \"\")\n",
    "            total_variance = subset_df.variance.sum()\n",
    "            total_time = subset_df.tte_from_prev_entry.sum()\n",
    "            annualized_variance = total_variance / total_time\n",
    "            annualized_vol= annualized_variance **0.5\n",
    "            realized_dict[dict_key] = annualized_vol\n",
    "\n",
    "            subset_df = subset_df[~subset_df['date'].isin(earnings_dates_list)]\n",
    "            subset_df = subset_df[~subset_df['prev_date'].isin(earnings_dates_list)]\n",
    "            dict_key = str(num_day)+'day_interval_without_earnings_'+ interval_time.replace(\" \", \"\")\n",
    "            total_variance = subset_df.variance.sum()\n",
    "            total_time = subset_df.tte_from_prev_entry.sum()\n",
    "            annualized_variance = total_variance / total_time\n",
    "            annualized_vol= annualized_variance **0.5\n",
    "            realized_dict[dict_key] = annualized_vol\n",
    "\n",
    "\n",
    "\n",
    "\n",
    "    realized_dict['timestamp'] = dt.datetime.now()\n",
    "    AddToRealizedFile(realized_dict, symbol, data_path, symbol_kind)\n",
    "    return realized_dict\n",
    "\n",
    "def AddToRealizedFile(realized_dict, symbol, data_path, symbol_kind):\n",
    "    realized_df = pd.DataFrame(realized_dict, index=[0])\n",
    "    file_path = data_path + \"/\" + symbol_kind + \"/\" + symbol + \"/realized.csv\"\n",
    "    file_exist = os.path.exists(file_path)\n",
    "    if file_exist:\n",
    "        realized_df.to_csv(file_path, mode='a', index=False, header=False)\n",
    "    else:\n",
    "        realized_df.to_csv(file_path, index = False)\n",
    "\n",
    "\n",
    "def GetEarningsDatesList(symbol, data_path, symbol_kind):\n",
    "    file_path = data_path + \"/\" + symbol_kind + \"/\" + symbol + \"/earnings.csv\"\n",
    "    file_df = pd.read_csv(file_path)\n",
    "    datetime_converted = pd.to_datetime(file_df.date).dt.date.to_list()\n",
    "    return datetime_converted\n",
    "\n",
    "def GetInputs(inputs_path):\n",
    "    df = pd.read_csv(inputs_path, header= None)\n",
    "    df_dict = dict(zip(df[0], df[1]))\n",
    "    df_dict['symbols'] = df_dict['symbols'].split(\"|\")\n",
    "    return df_dict"
   ],
   "metadata": {
    "collapsed": false,
    "pycharm": {
     "name": "#%%\n"
    }
   }
  },
  {
   "cell_type": "code",
   "execution_count": 3,
   "outputs": [],
   "source": [
    "inputs_path = \"./../../Inputs/historical_data_inputs.csv\"\n",
    "data_path = \"./../../HistoricalData\"\n",
    "interval_time_list = ['1 day', '1 hour', '10 mins']\n",
    "realized_days_list = [1,3,10,50,256]\n",
    "inputs_dict = GetInputs(inputs_path)\n",
    "\n",
    "for symbol in inputs_dict['symbols']:\n",
    "    UpdateRealizedData(symbol, data_path, \"stocks\", interval_time_list, realized_days_list)\n"
   ],
   "metadata": {
    "collapsed": false,
    "pycharm": {
     "name": "#%%\n"
    }
   }
  },
  {
   "cell_type": "code",
   "execution_count": 52,
   "outputs": [],
   "source": [],
   "metadata": {
    "collapsed": false,
    "pycharm": {
     "name": "#%%\n"
    }
   }
  },
  {
   "cell_type": "code",
   "execution_count": 52,
   "outputs": [],
   "source": [],
   "metadata": {
    "collapsed": false,
    "pycharm": {
     "name": "#%%\n"
    }
   }
  },
  {
   "cell_type": "code",
   "execution_count": null,
   "outputs": [],
   "source": [],
   "metadata": {
    "collapsed": false,
    "pycharm": {
     "name": "#%%\n"
    }
   }
  }
 ],
 "metadata": {
  "kernelspec": {
   "display_name": "Python 3 (ipykernel)",
   "language": "python",
   "name": "python3"
  },
  "language_info": {
   "codemirror_mode": {
    "name": "ipython",
    "version": 3
   },
   "file_extension": ".py",
   "mimetype": "text/x-python",
   "name": "python",
   "nbconvert_exporter": "python",
   "pygments_lexer": "ipython3",
   "version": "3.9.7"
  }
 },
 "nbformat": 4,
 "nbformat_minor": 4
}