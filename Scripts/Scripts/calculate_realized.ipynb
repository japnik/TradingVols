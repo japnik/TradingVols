{
 "cells": [
  {
   "cell_type": "markdown",
   "metadata": {},
   "source": [
    "# Bar data"
   ]
  },
  {
   "cell_type": "code",
   "execution_count": 7,
   "metadata": {},
   "outputs": [],
   "source": [
    "import numpy as np\n",
    "import pandas as pd\n",
    "import datetime as dt\n",
    "import os\n",
    "from Scripts.Utils import trading_utils"
   ]
  },
  {
   "cell_type": "code",
   "execution_count": 8,
   "outputs": [],
   "source": [
    "\n",
    "\n",
    "\n",
    "\n",
    "def UpdateRealizedData(symbol, data_path, symbol_kind, interval_time_list, realized_days_list, implied_theo_ratios_dict):\n",
    "    realized_dict = {}\n",
    "    earnings_dates_list = GetEarningsDatesList(symbol, data_path, symbol_kind)\n",
    "    for interval_time in interval_time_list:\n",
    "        interval_time_string = interval_time.replace(\" \", \"_\")\n",
    "        file_path = data_path + \"/\" + symbol_kind + \"/\" + symbol + \"/\" + interval_time_string + \".csv\"\n",
    "        df = pd.read_csv(file_path)\n",
    "        df['datetime'] = pd.to_datetime(df['date'])\n",
    "        df['date'] = pd.to_datetime(df['datetime']).dt.date\n",
    "        df['change'] = df.close - df.close.shift(1)\n",
    "        df['prev_datetime'] = df['datetime'].shift(1)\n",
    "        df['prev_date'] = pd.to_datetime(df['prev_datetime']).dt.date\n",
    "        df = df[1:]\n",
    "        df['tte_from_prev_entry'] = df.apply(lambda x: trading_utils.tte(x['prev_datetime'], x['datetime']), axis =1)\n",
    "        df['percent_change'] = abs(df.change/df.open)\n",
    "        df['variance'] = df['percent_change'] * df['percent_change']\n",
    "        df['time_in_years_till_now'] = df.apply(lambda x : trading_utils.tte(x['datetime'], df['datetime'].iloc[-1]), axis = 1)\n",
    "        df['time_in_years_till_now'] = df['time_in_years_till_now'].shift(1)\n",
    "        df['time_in_days_till_now'] = df['time_in_years_till_now'] * 252.0\n",
    "        df = df[1:]\n",
    "        df = df.reset_index()\n",
    "\n",
    "\n",
    "        for num_day in realized_days_list:\n",
    "            idx = df['time_in_days_till_now'].sub(num_day).abs().idxmin()\n",
    "            subset_df = df[idx:]\n",
    "            dict_key = str(num_day)+'_day_interval_'+ interval_time_string\n",
    "            total_variance = subset_df.variance.sum()\n",
    "            total_time = subset_df.tte_from_prev_entry.sum()\n",
    "            annualized_variance = total_variance / total_time\n",
    "            annualized_vol= annualized_variance **0.5\n",
    "            realized_dict[dict_key] = annualized_vol\n",
    "\n",
    "            subset_df = subset_df[~subset_df['date'].isin(earnings_dates_list)]\n",
    "            subset_df = subset_df[~subset_df['prev_date'].isin(earnings_dates_list)]\n",
    "            dict_key = str(num_day)+'_day_interval_without_earnings_'+ interval_time_string\n",
    "            total_variance = subset_df.variance.sum()\n",
    "            total_time = subset_df.tte_from_prev_entry.sum()\n",
    "            annualized_variance = total_variance / total_time\n",
    "            annualized_vol= annualized_variance **0.5\n",
    "            realized_dict[dict_key] = annualized_vol\n",
    "\n",
    "        for implied_theo_day in implied_theo_ratios_dict:\n",
    "            dict_key = str(implied_theo_day) + '_day_implied_' + interval_time_string\n",
    "            realized_dict[dict_key] = CalculateImpliedTheo(implied_theo_ratios_dict[implied_theo_day], realized_dict, interval_time_string)\n",
    "\n",
    "\n",
    "\n",
    "\n",
    "    realized_dict['timestamp'] = dt.datetime.now()\n",
    "\n",
    "    AddToRealizedFile(realized_dict, symbol, data_path, symbol_kind)\n",
    "    return realized_dict\n",
    "\n",
    "\n",
    "def CalculateImpliedTheo(implied_theo_ratios_dict, realized_dict, interval_time_string):\n",
    "    implied_theo = 0\n",
    "    for num_day in implied_theo_ratios_dict:\n",
    "        weight = implied_theo_ratios_dict[num_day]\n",
    "        realized_dict_key = str(num_day)+'_day_interval_without_earnings_'+ interval_time_string\n",
    "        realized_for_num_day = realized_dict[realized_dict_key]\n",
    "        implied_theo = implied_theo + weight * realized_for_num_day\n",
    "        # print(\"weight for \" + str(num_day)  + \" = \" +str(weight) + \". Realized for \" + str(num_day) + \" = \"  + str(realized_for_num_day))\n",
    "    return implied_theo\n",
    "\n",
    "\n",
    "def AddToRealizedFile(realized_dict, symbol, data_path, symbol_kind):\n",
    "    realized_df = pd.DataFrame(realized_dict, index=[0])\n",
    "    file_path = data_path + \"/\" + symbol_kind + \"/\" + symbol + \"/realized.csv\"\n",
    "    file_exist = os.path.exists(file_path)\n",
    "    if file_exist:\n",
    "        realized_df.to_csv(file_path, mode='a', index=False, header=False)\n",
    "    else:\n",
    "        realized_df.to_csv(file_path, index = False)\n",
    "\n",
    "\n",
    "def GetEarningsDatesList(symbol, data_path, symbol_kind):\n",
    "    file_path = data_path + \"/\" + symbol_kind + \"/\" + symbol + \"/earnings.csv\"\n",
    "    file_df = pd.read_csv(file_path)\n",
    "    datetime_converted = pd.to_datetime(file_df.date).dt.date.to_list()\n",
    "    return datetime_converted\n",
    "\n",
    "def GetInputs(inputs_path):\n",
    "    df = pd.read_csv(inputs_path, header= None)\n",
    "    df_dict = dict(zip(df[0], df[1]))\n",
    "    df_dict['symbols'] = df_dict['symbols'].split(\"|\")\n",
    "    return df_dict\n",
    "\n",
    "def GetImpliedRatios(implied_ratios_path):\n",
    "    df = pd.read_csv(implied_ratios_path)\n",
    "    realized_days_list = df.historical.to_list()\n",
    "    df = df.set_index('historical')\n",
    "    return (df.to_dict(), realized_days_list)\n",
    "\n",
    "\n"
   ],
   "metadata": {
    "collapsed": false,
    "pycharm": {
     "name": "#%%\n"
    }
   }
  },
  {
   "cell_type": "code",
   "execution_count": 9,
   "outputs": [],
   "source": [
    "inputs_path = \"./../../Inputs/historical_data_inputs.csv\"\n",
    "implied_ratios_path = \"./../../Inputs/implied_theo_ratios.csv\"\n",
    "data_path = \"./../../HistoricalData\"\n",
    "interval_time_list = ['1 day', '1 hour', '10 mins']\n",
    "inputs_dict = GetInputs(inputs_path)\n",
    "(implied_theo_ratios_dict, realized_days_list) = GetImpliedRatios(implied_ratios_path)\n",
    "for symbol in inputs_dict['symbols']:\n",
    "    UpdateRealizedData(symbol, data_path, \"stocks\", interval_time_list, realized_days_list, implied_theo_ratios_dict)\n"
   ],
   "metadata": {
    "collapsed": false,
    "pycharm": {
     "name": "#%%\n"
    }
   }
  },
  {
   "cell_type": "code",
   "execution_count": 9,
   "outputs": [],
   "source": [],
   "metadata": {
    "collapsed": false,
    "pycharm": {
     "name": "#%%\n"
    }
   }
  },
  {
   "cell_type": "code",
   "execution_count": 9,
   "outputs": [],
   "source": [],
   "metadata": {
    "collapsed": false,
    "pycharm": {
     "name": "#%%\n"
    }
   }
  },
  {
   "cell_type": "code",
   "execution_count": 9,
   "outputs": [],
   "source": [],
   "metadata": {
    "collapsed": false,
    "pycharm": {
     "name": "#%%\n"
    }
   }
  },
  {
   "cell_type": "code",
   "execution_count": 9,
   "outputs": [],
   "source": [],
   "metadata": {
    "collapsed": false,
    "pycharm": {
     "name": "#%%\n"
    }
   }
  },
  {
   "cell_type": "code",
   "execution_count": 9,
   "outputs": [],
   "source": [],
   "metadata": {
    "collapsed": false,
    "pycharm": {
     "name": "#%%\n"
    }
   }
  },
  {
   "cell_type": "code",
   "execution_count": null,
   "outputs": [],
   "source": [],
   "metadata": {
    "collapsed": false,
    "pycharm": {
     "name": "#%%\n"
    }
   }
  }
 ],
 "metadata": {
  "kernelspec": {
   "display_name": "Python 3 (ipykernel)",
   "language": "python",
   "name": "python3"
  },
  "language_info": {
   "codemirror_mode": {
    "name": "ipython",
    "version": 3
   },
   "file_extension": ".py",
   "mimetype": "text/x-python",
   "name": "python",
   "nbconvert_exporter": "python",
   "pygments_lexer": "ipython3",
   "version": "3.9.7"
  }
 },
 "nbformat": 4,
 "nbformat_minor": 4
}