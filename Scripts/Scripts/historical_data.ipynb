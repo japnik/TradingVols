{
 "cells": [
  {
   "cell_type": "markdown",
   "metadata": {},
   "source": [
    "# Bar data"
   ]
  },
  {
   "cell_type": "code",
   "execution_count": 2,
   "metadata": {},
   "outputs": [
    {
     "data": {
      "text/plain": "<IB connected to 127.0.0.1:7497 clientId=17>"
     },
     "execution_count": 2,
     "metadata": {},
     "output_type": "execute_result"
    }
   ],
   "source": [
    "from ib_insync import *\n",
    "util.startLoop()  \n",
    "\n",
    "ib = IB()\n",
    "ib.client.setConnectOptions('+PACEAPI')\n",
    "ib.connect('127.0.0.1', 7497, clientId=17)"
   ]
  },
  {
   "cell_type": "code",
   "execution_count": 3,
   "metadata": {},
   "outputs": [],
   "source": [
    "import numpy as np\n",
    "import pandas as pd\n",
    "import yahoo_fin.stock_info as si\n",
    "import datetime as dt\n",
    "import os"
   ]
  },
  {
   "cell_type": "code",
   "execution_count": 4,
   "outputs": [],
   "source": [
    "def GetInputs(inputs_path):\n",
    "    df = pd.read_csv(inputs_path, header= None)\n",
    "    df_dict = dict(zip(df[0], df[1]))\n",
    "    df_dict['symbols'] = df_dict['symbols'].split(\"|\")\n",
    "    return df_dict\n",
    "\n",
    "\n",
    "def CreateFolderIfFolderDoesntExist(symbol, data_path, symbol_kind):\n",
    "    folder_path = data_path + \"/\" + symbol_kind + \"/\" + symbol\n",
    "    folder_exist = os.path.exists(folder_path)\n",
    "    if not folder_exist:\n",
    "        os.mkdir(folder_path)\n",
    "        print(\"created folder for \", folder_path)\n",
    "\n",
    "\n",
    "def GetDurationOfDataNeeded(file_path):\n",
    "    df = pd.read_csv(file_path)\n",
    "    df['date_time'] = pd.to_datetime(df['date'])\n",
    "    most_recent_date = df['date_time'].max()\n",
    "    now = dt.datetime.now()\n",
    "    return (now - most_recent_date)\n",
    "\n",
    "def GetTimeIncrement(interval_time):\n",
    "    if interval_time == \"10 mins\":\n",
    "        return dt.timedelta(seconds = 600)\n",
    "    elif interval_time == \"1 hour\":\n",
    "        return dt.timedelta(seconds = 3600)\n",
    "    elif interval_time == \"1 day\":\n",
    "        return dt.timedelta(days = 1)\n",
    "\n",
    "\n",
    "def UpdatePriceFiles(symbol, data_path, symbol_kind, interval_time_list):\n",
    "    contract = Stock(symbol, 'SMART', 'USD')\n",
    "    ib.qualifyContracts(contract)\n",
    "    for interval_time in interval_time_list:\n",
    "        time_increment = GetTimeIncrement(interval_time)\n",
    "        interval_time_string = interval_time.replace(\" \", \"_\")\n",
    "        file_path = data_path + \"/\" + symbol_kind + \"/\" + symbol + \"/\" + interval_time_string + \".csv\"\n",
    "        file_exist = os.path.exists(file_path)\n",
    "        duration_time = '365 D'\n",
    "        if file_exist:\n",
    "            time_since_last_data_stored = GetDurationOfDataNeeded(file_path)\n",
    "            if time_since_last_data_stored > time_increment:\n",
    "                duration_time = str(time_since_last_data_stored.days + 1) + \" D\"\n",
    "                bars = ib.reqHistoricalData(\n",
    "                        contract,\n",
    "                        endDateTime='',\n",
    "                        durationStr=duration_time,\n",
    "                        barSizeSetting=interval_time,\n",
    "                        whatToShow='TRADES',\n",
    "                        useRTH=True,\n",
    "                        formatDate=1)\n",
    "                existing_data_df = pd.read_csv(file_path)\n",
    "                existing_data_df = existing_data_df.drop(existing_data_df.filter(regex='Unnamed').columns, axis=1)\n",
    "                new_data_df = util.df(bars)\n",
    "                merged_df = pd.concat([existing_data_df,new_data_df]).drop_duplicates().reset_index(drop=True)\n",
    "                merged_df = merged_df.drop_duplicates(subset='date', keep=\"last\")\n",
    "                merged_df = merged_df.dropna()\n",
    "                merged_df.to_csv(file_path)\n",
    "                print(\"Added data to \", symbol, interval_time)\n",
    "        else:\n",
    "            bars = ib.reqHistoricalData(\n",
    "                    contract,\n",
    "                    endDateTime='',\n",
    "                    durationStr=duration_time,\n",
    "                    barSizeSetting=interval_time,\n",
    "                    whatToShow='TRADES',\n",
    "                    useRTH=True,\n",
    "                    formatDate=1)\n",
    "            df = util.df(bars)\n",
    "            df.to_csv(file_path)\n",
    "            print(\"Created new file for \", symbol, interval_time)\n",
    "    return\n",
    "\n",
    "def UpdateEarningsFile(symbol, symbol_kind):\n",
    "    file_path = data_path + \"/\" + symbol_kind + \"/\" + symbol + \"/earnings.csv\"\n",
    "    file_exist = os.path.exists(file_path)\n",
    "    if file_exist:\n",
    "        last_earnings = pd.to_datetime(pd.read_csv(file_path)['date']).max()\n",
    "        now = dt.datetime.now()\n",
    "        time_diff = now - last_earnings\n",
    "        if time_diff.days > 60:\n",
    "            earnings_dict = si.get_earnings_history(symbol)\n",
    "            df_earnings = pd.DataFrame(earnings_dict)\n",
    "            earnings_dates_list = pd.to_datetime(df_earnings.startdatetime).dt.date.to_list()\n",
    "            df = pd.DataFrame({\"date\" :earnings_dates_list})\n",
    "            df.to_csv(file_path)\n",
    "            print(\"Updated earnings file for \", symbol)\n",
    "    else:\n",
    "        earnings_dict = si.get_earnings_history(symbol)\n",
    "        df_earnings = pd.DataFrame(earnings_dict)\n",
    "        earnings_dates_list = pd.to_datetime(df_earnings.startdatetime).dt.date.to_list()\n",
    "        earnings_dates_list = [earning_date for earning_date in earnings_dates_list if earning_date <= dt.date.today()]\n",
    "        df = pd.DataFrame({\"date\" :earnings_dates_list})\n",
    "        df.to_csv(file_path)\n",
    "        print(\"Created new file for earnings for\", symbol)\n",
    "    return\n",
    "\n",
    "\n",
    "def UpdateData(symbol, data_path, symbol_kind, interval_time_list):\n",
    "    CreateFolderIfFolderDoesntExist(symbol, data_path, symbol_kind)\n",
    "    UpdatePriceFiles(symbol, data_path, symbol_kind, interval_time_list)\n",
    "    UpdateEarningsFile(symbol, symbol_kind)\n",
    "    return\n",
    "\n",
    "\n",
    "\n",
    "\n"
   ],
   "metadata": {
    "collapsed": false,
    "pycharm": {
     "name": "#%%\n"
    }
   }
  },
  {
   "cell_type": "code",
   "execution_count": 6,
   "outputs": [
    {
     "name": "stdout",
     "output_type": "stream",
     "text": [
      "Added data to  AAPL 1 day\n",
      "Added data to  AAPL 1 hour\n",
      "Added data to  AAPL 10 mins\n"
     ]
    }
   ],
   "source": [
    "inputs_path = \"./../../Inputs/historical_data_inputs.csv\"\n",
    "data_path = \"./../../HistoricalData\"\n",
    "interval_time_list = ['1 day', '1 hour', '10 mins']\n",
    "inputs_dict = GetInputs(inputs_path)\n",
    "for symbol in inputs_dict['symbols']:\n",
    "    UpdateData(symbol, data_path, \"stocks\", interval_time_list)"
   ],
   "metadata": {
    "collapsed": false,
    "pycharm": {
     "name": "#%%\n"
    }
   }
  },
  {
   "cell_type": "code",
   "execution_count": 102,
   "outputs": [
    {
     "name": "stdout",
     "output_type": "stream",
     "text": [
      "Added data to  MSFT 10 mins\n"
     ]
    }
   ],
   "source": [
    "UpdateData(\"MSFT\", data_path, \"stocks\", ['10 mins'])"
   ],
   "metadata": {
    "collapsed": false,
    "pycharm": {
     "name": "#%%\n"
    }
   }
  },
  {
   "cell_type": "code",
   "execution_count": 117,
   "outputs": [],
   "source": [
    "contract = Stock('AAPL', 'SMART', 'USD')\n",
    "duration_time = '2 D'\n",
    "interval_time = '10 mins'\n",
    "bars = ib.reqHistoricalData(\n",
    "                        contract,\n",
    "                        endDateTime='',\n",
    "                        durationStr=duration_time,\n",
    "                        barSizeSetting=interval_time,\n",
    "                        whatToShow= 'OPTION_IMPLIED_VOLATILITY',\n",
    "                        useRTH=True,\n",
    "                        formatDate=1)"
   ],
   "metadata": {
    "collapsed": false,
    "pycharm": {
     "name": "#%%\n"
    }
   }
  },
  {
   "cell_type": "code",
   "execution_count": 118,
   "outputs": [
    {
     "data": {
      "text/plain": "'OXY'"
     },
     "execution_count": 118,
     "metadata": {},
     "output_type": "execute_result"
    }
   ],
   "source": [
    "symbol"
   ],
   "metadata": {
    "collapsed": false,
    "pycharm": {
     "name": "#%%\n"
    }
   }
  },
  {
   "cell_type": "code",
   "execution_count": 119,
   "outputs": [
    {
     "data": {
      "text/plain": "[BarData(date=datetime.datetime(2022, 8, 2, 9, 30), open=0.26669173, high=0.28256624, low=0.26669173, close=0.28256624, volume=0.01, average=0.2826932360846294, barCount=0),\n BarData(date=datetime.datetime(2022, 8, 2, 9, 40), open=0.28256624, high=0.28256624, low=0.27780389, close=0.27939134, volume=0.01, average=0.2826932360846294, barCount=0),\n BarData(date=datetime.datetime(2022, 8, 2, 9, 50), open=0.27939134, high=0.28415369, low=0.27939134, close=0.28097879, volume=0.01, average=0.2838362006510093, barCount=0),\n BarData(date=datetime.datetime(2022, 8, 2, 10, 0), open=0.28097879, high=0.28415369, low=0.27939134, close=0.28097879, volume=0.01, average=0.2837727026195437, barCount=0),\n BarData(date=datetime.datetime(2022, 8, 2, 10, 10), open=0.28097879, high=0.28415369, low=0.28097879, close=0.28097879, volume=0.01, average=0.2837250790959446, barCount=0),\n BarData(date=datetime.datetime(2022, 8, 2, 10, 20), open=0.28097879, high=0.28097879, low=0.27780389, close=0.27780389, volume=0.01, average=0.2812169068530553, barCount=0),\n BarData(date=datetime.datetime(2022, 8, 2, 10, 30), open=0.27780389, high=0.27780389, low=0.27462899, close=0.27462899, volume=0.01, average=0.2780737542955106, barCount=0),\n BarData(date=datetime.datetime(2022, 8, 2, 10, 40), open=0.27462899, high=0.27621644, low=0.26986663, close=0.26986663, volume=0.01, average=0.2754703350054231, barCount=0),\n BarData(date=datetime.datetime(2022, 8, 2, 10, 50), open=0.26986663, high=0.26986663, low=0.26510428, close=0.26669173, volume=0.01, average=0.2702317474095152, barCount=0),\n BarData(date=datetime.datetime(2022, 8, 2, 11, 0), open=0.26669173, high=0.26986663, low=0.26669173, close=0.26827918, volume=0.01, average=0.2693110259532647, barCount=0),\n BarData(date=datetime.datetime(2022, 8, 2, 11, 10), open=0.26827918, high=0.26986663, low=0.26827918, close=0.26827918, volume=0.01, average=0.2702793709331143, barCount=0),\n BarData(date=datetime.datetime(2022, 8, 2, 11, 20), open=0.26827918, high=0.26986663, low=0.26669173, close=0.26669173, volume=0.01, average=0.2690887828431353, barCount=0),\n BarData(date=datetime.datetime(2022, 8, 2, 11, 30), open=0.26669173, high=0.26827918, low=0.26510428, close=0.26669173, volume=0.01, average=0.2684379280206134, barCount=0),\n BarData(date=datetime.datetime(2022, 8, 2, 11, 40), open=0.26669173, high=0.26669173, low=0.26351683, close=0.26351683, volume=0.01, average=0.266659983139578, barCount=0),\n BarData(date=datetime.datetime(2022, 8, 2, 11, 50), open=0.26351683, high=0.26510428, low=0.26351683, close=0.26510428, volume=0.01, average=0.2647391676877451, barCount=0),\n BarData(date=datetime.datetime(2022, 8, 2, 12, 0), open=0.26510428, high=0.26510428, low=0.26192938, close=0.26351683, volume=0.01, average=0.2645486735933484, barCount=0),\n BarData(date=datetime.datetime(2022, 8, 2, 12, 10), open=0.26351683, high=0.26351683, low=0.26034193, close=0.26034193, volume=0.01, average=0.2636597011528307, barCount=0),\n BarData(date=datetime.datetime(2022, 8, 2, 12, 20), open=0.26034193, high=0.26034193, low=0.25875448, close=0.26034193, volume=0.01, average=0.2609927838312776, barCount=0),\n BarData(date=datetime.datetime(2022, 8, 2, 12, 30), open=0.26034193, high=0.26192938, low=0.26034193, close=0.26034193, volume=0.01, average=0.2613261484964717, barCount=0),\n BarData(date=datetime.datetime(2022, 8, 2, 12, 40), open=0.26034193, high=0.26034193, low=0.26034193, close=0.26034193, volume=0.01, average=0.2608340387526137, barCount=0),\n BarData(date=datetime.datetime(2022, 8, 2, 12, 50), open=0.26034193, high=0.26034193, low=0.25875448, close=0.26034193, volume=0.01, average=0.2604054270402213, barCount=0),\n BarData(date=datetime.datetime(2022, 8, 2, 13, 0), open=0.26034193, high=0.26192938, low=0.26034193, close=0.26192938, volume=0.01, average=0.2623103679841878, barCount=0),\n BarData(date=datetime.datetime(2022, 8, 2, 13, 10), open=0.26192938, high=0.26351683, low=0.26192938, close=0.26192938, volume=0.01, average=0.2630723443617744, barCount=0),\n BarData(date=datetime.datetime(2022, 8, 2, 13, 20), open=0.26192938, high=0.26669173, low=0.26192938, close=0.26669173, volume=0.01, average=0.2669298497733066, barCount=0),\n BarData(date=datetime.datetime(2022, 8, 2, 13, 30), open=0.26669173, high=0.27462899, low=0.26669173, close=0.27304154, volume=0.01, average=0.2741051273289137, barCount=0),\n BarData(date=datetime.datetime(2022, 8, 2, 13, 40), open=0.27304154, high=0.27462899, low=0.27304154, close=0.27462899, volume=0.01, average=0.2751210958323625, barCount=0),\n BarData(date=datetime.datetime(2022, 8, 2, 13, 50), open=0.27462899, high=0.27462899, low=0.27304154, close=0.27462899, volume=0.01, average=0.27526396640316, barCount=0),\n BarData(date=datetime.datetime(2022, 8, 2, 14, 0), open=0.27462899, high=0.27462899, low=0.27145408, close=0.27145408, volume=0.01, average=0.2739622567581162, barCount=0),\n BarData(date=datetime.datetime(2022, 8, 2, 14, 10), open=0.27145408, high=0.27462899, low=0.27145408, close=0.27304154, volume=0.01, average=0.2738670097109179, barCount=0),\n BarData(date=datetime.datetime(2022, 8, 2, 14, 20), open=0.27304154, high=0.27304154, low=0.27304154, close=0.27304154, volume=0.01, average=0.2737400136479868, barCount=0),\n BarData(date=datetime.datetime(2022, 8, 2, 14, 30), open=0.27304154, high=0.27462899, low=0.27145408, close=0.27462899, volume=0.01, average=0.273994005773849, barCount=0),\n BarData(date=datetime.datetime(2022, 8, 2, 14, 40), open=0.27462899, high=0.27462899, low=0.27304154, close=0.27304154, volume=0.01, average=0.2745337390413062, barCount=0),\n BarData(date=datetime.datetime(2022, 8, 2, 14, 50), open=0.27304154, high=0.27621644, low=0.27304154, close=0.27621644, volume=0.01, average=0.2765815505560702, barCount=0),\n BarData(date=datetime.datetime(2022, 8, 2, 15, 0), open=0.27621644, high=0.27780389, low=0.27621644, close=0.27780389, volume=0.01, average=0.2782324993741745, barCount=0),\n BarData(date=datetime.datetime(2022, 8, 2, 15, 10), open=0.27780389, high=0.28097879, low=0.27780389, close=0.28097879, volume=0.01, average=0.2808517931721284, barCount=0),\n BarData(date=datetime.datetime(2022, 8, 2, 15, 20), open=0.28097879, high=0.28256624, low=0.27939134, close=0.27939134, volume=0.01, average=0.2824074949430344, barCount=0),\n BarData(date=datetime.datetime(2022, 8, 2, 15, 30), open=0.27939134, high=0.27939134, low=0.27780389, close=0.27780389, volume=0.01, average=0.2800104442552099, barCount=0),\n BarData(date=datetime.datetime(2022, 8, 2, 15, 40), open=0.27780389, high=0.27939134, low=0.27780389, close=0.27780389, volume=0.01, average=0.279073848291093, barCount=0),\n BarData(date=datetime.datetime(2022, 8, 2, 15, 50), open=0.27780389, high=0.27780389, low=0.27780389, close=0.27780389, volume=0.01, average=0.2781848758505753, barCount=0),\n BarData(date=datetime.datetime(2022, 8, 3, 9, 30), open=0.28097879, high=0.28097879, low=0.26510428, close=0.26510428, volume=0.01, average=0.2804390559676024, barCount=0),\n BarData(date=datetime.datetime(2022, 8, 3, 9, 40), open=0.26510428, high=0.26669173, low=0.26510428, close=0.26510428, volume=0.01, average=0.2667076066631771, barCount=0),\n BarData(date=datetime.datetime(2022, 8, 3, 9, 50), open=0.26510428, high=0.26669173, low=0.26351683, close=0.26669173, volume=0.01, average=0.2665171125687805, barCount=0),\n BarData(date=datetime.datetime(2022, 8, 3, 10, 0), open=0.26669173, high=0.26827918, low=0.26351683, close=0.26669173, volume=0.01, average=0.2686601711307428, barCount=0),\n BarData(date=datetime.datetime(2022, 8, 3, 10, 10), open=0.26669173, high=0.26827918, low=0.26669173, close=0.26827918, volume=0.01, average=0.2689617867802042, barCount=0),\n BarData(date=datetime.datetime(2022, 8, 3, 10, 20), open=0.26827918, high=0.26986663, low=0.26669173, close=0.26827918, volume=0.01, average=0.2693745239847302, barCount=0),\n BarData(date=datetime.datetime(2022, 8, 3, 10, 30), open=0.26827918, high=0.27145408, low=0.26827918, close=0.26986663, volume=0.01, average=0.2707714806769723, barCount=0),\n BarData(date=datetime.datetime(2022, 8, 3, 10, 40), open=0.26986663, high=0.26986663, low=0.26669173, close=0.26669173, volume=0.01, average=0.2702634964252479, barCount=0),\n BarData(date=datetime.datetime(2022, 8, 3, 10, 50), open=0.26669173, high=0.26669173, low=0.26510428, close=0.26669173, volume=0.01, average=0.2671044693598368, barCount=0),\n BarData(date=datetime.datetime(2022, 8, 3, 11, 0), open=0.26669173, high=0.26669173, low=0.26510428, close=0.26510428, volume=0.01, average=0.2662789949507847, barCount=0),\n BarData(date=datetime.datetime(2022, 8, 3, 11, 10), open=0.26510428, high=0.26510428, low=0.26351683, close=0.26510428, volume=0.01, average=0.264612171624814, barCount=0),\n BarData(date=datetime.datetime(2022, 8, 3, 11, 20), open=0.26510428, high=0.26510428, low=0.26510428, close=0.26510428, volume=0.01, average=0.2650725323529392, barCount=0),\n BarData(date=datetime.datetime(2022, 8, 3, 11, 30), open=0.26510428, high=0.26510428, low=0.26351683, close=0.26351683, volume=0.01, average=0.2650725323529392, barCount=0),\n BarData(date=datetime.datetime(2022, 8, 3, 11, 40), open=0.26351683, high=0.26351683, low=0.26192938, close=0.26192938, volume=0.01, average=0.2636914501685635, barCount=0),\n BarData(date=datetime.datetime(2022, 8, 3, 11, 50), open=0.26192938, high=0.26192938, low=0.26034193, close=0.26192938, volume=0.01, average=0.2627072306808475, barCount=0),\n BarData(date=datetime.datetime(2022, 8, 3, 12, 0), open=0.26192938, high=0.26351683, low=0.26192938, close=0.26351683, volume=0.01, average=0.2634533325505677, barCount=0),\n BarData(date=datetime.datetime(2022, 8, 3, 12, 10), open=0.26351683, high=0.26351683, low=0.26192938, close=0.26192938, volume=0.01, average=0.2634692070584341, barCount=0),\n BarData(date=datetime.datetime(2022, 8, 3, 12, 20), open=0.26192938, high=0.26192938, low=0.26034193, close=0.26034193, volume=0.01, average=0.2625167365864508, barCount=0),\n BarData(date=datetime.datetime(2022, 8, 3, 12, 30), open=0.26034193, high=0.26034193, low=0.25875448, close=0.25875448, volume=0.01, average=0.2609769093234112, barCount=0),\n BarData(date=datetime.datetime(2022, 8, 3, 12, 40), open=0.25875448, high=0.25875448, low=0.25716703, close=0.25875448, volume=0.01, average=0.2592307134581086, barCount=0),\n BarData(date=datetime.datetime(2022, 8, 3, 12, 50), open=0.25875448, high=0.26034193, low=0.25716703, close=0.25875448, volume=0.01, average=0.2599926898356952, barCount=0),\n BarData(date=datetime.datetime(2022, 8, 3, 13, 0), open=0.25875448, high=0.26192938, low=0.25875448, close=0.26192938, volume=0.01, average=0.2616436386537995, barCount=0),\n BarData(date=datetime.datetime(2022, 8, 3, 13, 10), open=0.26192938, high=0.26351683, low=0.26192938, close=0.26351683, volume=0.01, average=0.2628024777280458, barCount=0),\n BarData(date=datetime.datetime(2022, 8, 3, 13, 20), open=0.26351683, high=0.26351683, low=0.26192938, close=0.26192938, volume=0.01, average=0.2628977247752441, barCount=0),\n BarData(date=datetime.datetime(2022, 8, 3, 13, 30), open=0.26192938, high=0.26351683, low=0.26192938, close=0.26351683, volume=0.01, average=0.2638660697550938, barCount=0),\n BarData(date=datetime.datetime(2022, 8, 3, 13, 40), open=0.26351683, high=0.26351683, low=0.26192938, close=0.26192938, volume=0.01, average=0.2640565638494904, barCount=0),\n BarData(date=datetime.datetime(2022, 8, 3, 13, 50), open=0.26192938, high=0.26351683, low=0.26192938, close=0.26192938, volume=0.01, average=0.2628659757595113, barCount=0),\n BarData(date=datetime.datetime(2022, 8, 3, 14, 0), open=0.26192938, high=0.26351683, low=0.26192938, close=0.26192938, volume=0.01, average=0.2627389796965802, barCount=0),\n BarData(date=datetime.datetime(2022, 8, 3, 14, 10), open=0.26192938, high=0.26192938, low=0.26034193, close=0.26034193, volume=0.01, average=0.2626596071572483, barCount=0),\n BarData(date=datetime.datetime(2022, 8, 3, 14, 20), open=0.26034193, high=0.26192938, low=0.26034193, close=0.26192938, volume=0.01, average=0.2614848935751356, barCount=0),\n BarData(date=datetime.datetime(2022, 8, 3, 14, 30), open=0.26192938, high=0.26192938, low=0.26034193, close=0.26192938, volume=0.01, average=0.2617071366852651, barCount=0),\n BarData(date=datetime.datetime(2022, 8, 3, 14, 40), open=0.26192938, high=0.26192938, low=0.26192938, close=0.26192938, volume=0.01, average=0.26256436011005, barCount=0),\n BarData(date=datetime.datetime(2022, 8, 3, 14, 50), open=0.26192938, high=0.26192938, low=0.26034193, close=0.26192938, volume=0.01, average=0.26256436011005, barCount=0),\n BarData(date=datetime.datetime(2022, 8, 3, 15, 0), open=0.26192938, high=0.26192938, low=0.26034193, close=0.26192938, volume=0.01, average=0.2620405013504592, barCount=0),\n BarData(date=datetime.datetime(2022, 8, 3, 15, 10), open=0.26192938, high=0.26192938, low=0.26034193, close=0.26034193, volume=0.01, average=0.2621833719212567, barCount=0),\n BarData(date=datetime.datetime(2022, 8, 3, 15, 20), open=0.26034193, high=0.26034193, low=0.25875448, close=0.26034193, volume=0.01, average=0.260802289736881, barCount=0),\n BarData(date=datetime.datetime(2022, 8, 3, 15, 30), open=0.26034193, high=0.26034193, low=0.25875448, close=0.25875448, volume=0.01, average=0.2598180702491649, barCount=0),\n BarData(date=datetime.datetime(2022, 8, 3, 15, 40), open=0.25875448, high=0.26034193, low=0.25875448, close=0.25875448, volume=0.01, average=0.259945066312096, barCount=0),\n BarData(date=datetime.datetime(2022, 8, 3, 15, 50), open=0.25875448, high=0.25875448, low=0.25875448, close=0.25875448, volume=0.01, average=0.2593577095210397, barCount=0)]"
     },
     "execution_count": 119,
     "metadata": {},
     "output_type": "execute_result"
    }
   ],
   "source": [
    "bars"
   ],
   "metadata": {
    "collapsed": false,
    "pycharm": {
     "name": "#%%\n"
    }
   }
  },
  {
   "cell_type": "code",
   "execution_count": 120,
   "outputs": [],
   "source": [
    "a =Option('AAPL', '20220805', 130, 'C', \"SMART\", multiplier=100)"
   ],
   "metadata": {
    "collapsed": false,
    "pycharm": {
     "name": "#%%\n"
    }
   }
  },
  {
   "cell_type": "code",
   "execution_count": 121,
   "outputs": [
    {
     "data": {
      "text/plain": "[Option(conId=569572336, symbol='AAPL', lastTradeDateOrContractMonth='20220805', strike=130.0, right='C', multiplier='100', exchange='SMART', currency='USD', localSymbol='AAPL  220805C00130000', tradingClass='AAPL')]"
     },
     "execution_count": 121,
     "metadata": {},
     "output_type": "execute_result"
    }
   ],
   "source": [
    "ib.qualifyContracts(a)"
   ],
   "metadata": {
    "collapsed": false,
    "pycharm": {
     "name": "#%%\n"
    }
   }
  },
  {
   "cell_type": "code",
   "execution_count": 126,
   "outputs": [],
   "source": [
    "bars = ib.reqHistoricalData(\n",
    "                        a,\n",
    "                        endDateTime='',\n",
    "                        durationStr=duration_time,\n",
    "                        barSizeSetting=interval_time,\n",
    "                        whatToShow= 'MIDPOINT',\n",
    "                        useRTH=True,\n",
    "                        formatDate=1)"
   ],
   "metadata": {
    "collapsed": false,
    "pycharm": {
     "name": "#%%\n"
    }
   }
  },
  {
   "cell_type": "code",
   "execution_count": 127,
   "outputs": [
    {
     "data": {
      "text/plain": "[BarData(date=datetime.datetime(2022, 8, 2, 9, 30), open=30.1, high=30.95, low=29.175, close=30.725, volume=-1.0, average=-1.0, barCount=-1),\n BarData(date=datetime.datetime(2022, 8, 2, 9, 40), open=30.725, high=31.075, low=30.525, close=30.55, volume=-1.0, average=-1.0, barCount=-1),\n BarData(date=datetime.datetime(2022, 8, 2, 9, 50), open=30.55, high=30.75, low=30.025, close=30.7, volume=-1.0, average=-1.0, barCount=-1),\n BarData(date=datetime.datetime(2022, 8, 2, 10, 0), open=30.7, high=30.8, low=30.05, close=30.075, volume=-1.0, average=-1.0, barCount=-1),\n BarData(date=datetime.datetime(2022, 8, 2, 10, 10), open=30.075, high=30.35, low=29.7, close=30.35, volume=-1.0, average=-1.0, barCount=-1),\n BarData(date=datetime.datetime(2022, 8, 2, 10, 20), open=30.35, high=30.6, low=30.075, close=30.6, volume=-1.0, average=-1.0, barCount=-1),\n BarData(date=datetime.datetime(2022, 8, 2, 10, 30), open=30.6, high=30.9, low=30.425, close=30.775, volume=-1.0, average=-1.0, barCount=-1),\n BarData(date=datetime.datetime(2022, 8, 2, 10, 40), open=30.775, high=31.35, low=30.6, close=31.225, volume=-1.0, average=-1.0, barCount=-1),\n BarData(date=datetime.datetime(2022, 8, 2, 10, 50), open=31.225, high=31.725, low=31.2, close=31.3, volume=-1.0, average=-1.0, barCount=-1),\n BarData(date=datetime.datetime(2022, 8, 2, 11, 0), open=31.3, high=31.4, low=31.075, close=31.175, volume=-1.0, average=-1.0, barCount=-1),\n BarData(date=datetime.datetime(2022, 8, 2, 11, 10), open=31.175, high=31.175, low=30.9, close=31.1, volume=-1.0, average=-1.0, barCount=-1),\n BarData(date=datetime.datetime(2022, 8, 2, 11, 20), open=31.1, high=31.175, low=30.925, close=31.175, volume=-1.0, average=-1.0, barCount=-1),\n BarData(date=datetime.datetime(2022, 8, 2, 11, 30), open=31.175, high=31.25, low=30.65, close=31.25, volume=-1.0, average=-1.0, barCount=-1),\n BarData(date=datetime.datetime(2022, 8, 2, 11, 40), open=31.25, high=31.475, low=31.175, close=31.325, volume=-1.0, average=-1.0, barCount=-1),\n BarData(date=datetime.datetime(2022, 8, 2, 11, 50), open=31.325, high=31.35, low=31.15, close=31.2, volume=-1.0, average=-1.0, barCount=-1),\n BarData(date=datetime.datetime(2022, 8, 2, 12, 0), open=31.2, high=31.65, low=31.175, close=31.55, volume=-1.0, average=-1.0, barCount=-1),\n BarData(date=datetime.datetime(2022, 8, 2, 12, 10), open=31.55, high=32.2, low=31.55, close=32.2, volume=-1.0, average=-1.0, barCount=-1),\n BarData(date=datetime.datetime(2022, 8, 2, 12, 20), open=32.2, high=32.425, low=32.175, close=32.4, volume=-1.0, average=-1.0, barCount=-1),\n BarData(date=datetime.datetime(2022, 8, 2, 12, 30), open=32.4, high=32.4, low=32.15, close=32.3, volume=-1.0, average=-1.0, barCount=-1),\n BarData(date=datetime.datetime(2022, 8, 2, 12, 40), open=32.3, high=32.35, low=32.2, close=32.325, volume=-1.0, average=-1.0, barCount=-1),\n BarData(date=datetime.datetime(2022, 8, 2, 12, 50), open=32.325, high=32.375, low=32.25, close=32.25, volume=-1.0, average=-1.0, barCount=-1),\n BarData(date=datetime.datetime(2022, 8, 2, 13, 0), open=32.25, high=32.25, low=31.975, close=32.15, volume=-1.0, average=-1.0, barCount=-1),\n BarData(date=datetime.datetime(2022, 8, 2, 13, 10), open=32.15, high=32.25, low=32.1, close=32.175, volume=-1.0, average=-1.0, barCount=-1),\n BarData(date=datetime.datetime(2022, 8, 2, 13, 20), open=32.175, high=32.175, low=31.15, close=31.175, volume=-1.0, average=-1.0, barCount=-1),\n BarData(date=datetime.datetime(2022, 8, 2, 13, 30), open=31.175, high=31.175, low=30.3, close=30.475, volume=-1.0, average=-1.0, barCount=-1),\n BarData(date=datetime.datetime(2022, 8, 2, 13, 40), open=30.475, high=30.6, low=30.225, close=30.25, volume=-1.0, average=-1.0, barCount=-1),\n BarData(date=datetime.datetime(2022, 8, 2, 13, 50), open=30.25, high=30.5, low=30.15, close=30.425, volume=-1.0, average=-1.0, barCount=-1),\n BarData(date=datetime.datetime(2022, 8, 2, 14, 0), open=30.425, high=30.85, low=30.325, close=30.825, volume=-1.0, average=-1.0, barCount=-1),\n BarData(date=datetime.datetime(2022, 8, 2, 14, 10), open=30.825, high=30.9, low=30.575, close=30.9, volume=-1.0, average=-1.0, barCount=-1),\n BarData(date=datetime.datetime(2022, 8, 2, 14, 20), open=30.9, high=31.075, low=30.85, close=30.975, volume=-1.0, average=-1.0, barCount=-1),\n BarData(date=datetime.datetime(2022, 8, 2, 14, 30), open=30.975, high=31.3, low=30.975, close=30.975, volume=-1.0, average=-1.0, barCount=-1),\n BarData(date=datetime.datetime(2022, 8, 2, 14, 40), open=30.975, high=31.175, low=30.8, close=31.125, volume=-1.0, average=-1.0, barCount=-1),\n BarData(date=datetime.datetime(2022, 8, 2, 14, 50), open=31.125, high=31.175, low=30.6, close=30.675, volume=-1.0, average=-1.0, barCount=-1),\n BarData(date=datetime.datetime(2022, 8, 2, 15, 0), open=30.675, high=30.8, low=30.475, close=30.55, volume=-1.0, average=-1.0, barCount=-1),\n BarData(date=datetime.datetime(2022, 8, 2, 15, 10), open=30.55, high=30.85, low=30.225, close=30.375, volume=-1.0, average=-1.0, barCount=-1),\n BarData(date=datetime.datetime(2022, 8, 2, 15, 20), open=30.375, high=30.575, low=30.25, close=30.55, volume=-1.0, average=-1.0, barCount=-1),\n BarData(date=datetime.datetime(2022, 8, 2, 15, 30), open=30.55, high=30.8, low=30.425, close=30.6, volume=-1.0, average=-1.0, barCount=-1),\n BarData(date=datetime.datetime(2022, 8, 2, 15, 40), open=30.6, high=30.625, low=30.125, close=30.525, volume=-1.0, average=-1.0, barCount=-1),\n BarData(date=datetime.datetime(2022, 8, 2, 15, 50), open=30.525, high=30.525, low=30.05, close=30.125, volume=-1.0, average=-1.0, barCount=-1),\n BarData(date=datetime.datetime(2022, 8, 3, 9, 30), open=30.85, high=32.725, low=30.55, close=32.7, volume=-1.0, average=-1.0, barCount=-1),\n BarData(date=datetime.datetime(2022, 8, 3, 9, 40), open=32.7, high=32.7, low=32.125, close=32.575, volume=-1.0, average=-1.0, barCount=-1),\n BarData(date=datetime.datetime(2022, 8, 3, 9, 50), open=32.575, high=33.3, low=32.55, close=33.25, volume=-1.0, average=-1.0, barCount=-1),\n BarData(date=datetime.datetime(2022, 8, 3, 10, 0), open=33.25, high=34.425, low=32.875, close=34.0, volume=-1.0, average=-1.0, barCount=-1),\n BarData(date=datetime.datetime(2022, 8, 3, 10, 10), open=34.0, high=34.075, low=33.525, close=33.675, volume=-1.0, average=-1.0, barCount=-1),\n BarData(date=datetime.datetime(2022, 8, 3, 10, 20), open=33.675, high=34.175, low=33.55, close=33.95, volume=-1.0, average=-1.0, barCount=-1),\n BarData(date=datetime.datetime(2022, 8, 3, 10, 30), open=33.95, high=33.975, low=33.425, close=33.7, volume=-1.0, average=-1.0, barCount=-1),\n BarData(date=datetime.datetime(2022, 8, 3, 10, 40), open=33.7, high=33.95, low=33.35, close=33.85, volume=-1.0, average=-1.0, barCount=-1),\n BarData(date=datetime.datetime(2022, 8, 3, 10, 50), open=33.85, high=34.075, low=33.8, close=34.075, volume=-1.0, average=-1.0, barCount=-1),\n BarData(date=datetime.datetime(2022, 8, 3, 11, 0), open=34.075, high=34.4, low=34.075, close=34.4, volume=-1.0, average=-1.0, barCount=-1),\n BarData(date=datetime.datetime(2022, 8, 3, 11, 10), open=34.4, high=34.825, low=34.4, close=34.65, volume=-1.0, average=-1.0, barCount=-1),\n BarData(date=datetime.datetime(2022, 8, 3, 11, 20), open=34.65, high=34.825, low=34.6, close=34.625, volume=-1.0, average=-1.0, barCount=-1),\n BarData(date=datetime.datetime(2022, 8, 3, 11, 30), open=34.625, high=34.825, low=34.475, close=34.8, volume=-1.0, average=-1.0, barCount=-1),\n BarData(date=datetime.datetime(2022, 8, 3, 11, 40), open=34.8, high=35.4, low=34.7, close=34.925, volume=-1.0, average=-1.0, barCount=-1),\n BarData(date=datetime.datetime(2022, 8, 3, 11, 50), open=34.925, high=35.15, low=34.775, close=35.125, volume=-1.0, average=-1.0, barCount=-1),\n BarData(date=datetime.datetime(2022, 8, 3, 12, 0), open=35.125, high=35.125, low=34.65, close=34.875, volume=-1.0, average=-1.0, barCount=-1),\n BarData(date=datetime.datetime(2022, 8, 3, 12, 10), open=34.875, high=34.875, low=34.5, close=34.775, volume=-1.0, average=-1.0, barCount=-1),\n BarData(date=datetime.datetime(2022, 8, 3, 12, 20), open=34.775, high=35.05, low=34.775, close=34.975, volume=-1.0, average=-1.0, barCount=-1),\n BarData(date=datetime.datetime(2022, 8, 3, 12, 30), open=34.975, high=35.4, low=34.975, close=35.4, volume=-1.0, average=-1.0, barCount=-1),\n BarData(date=datetime.datetime(2022, 8, 3, 12, 40), open=35.4, high=35.9, low=35.4, close=35.85, volume=-1.0, average=-1.0, barCount=-1),\n BarData(date=datetime.datetime(2022, 8, 3, 12, 50), open=35.85, high=36.025, low=35.825, close=35.85, volume=-1.0, average=-1.0, barCount=-1),\n BarData(date=datetime.datetime(2022, 8, 3, 13, 0), open=35.85, high=36.425, low=35.85, close=36.25, volume=-1.0, average=-1.0, barCount=-1),\n BarData(date=datetime.datetime(2022, 8, 3, 13, 10), open=36.25, high=36.3, low=36.0, close=36.0, volume=-1.0, average=-1.0, barCount=-1),\n BarData(date=datetime.datetime(2022, 8, 3, 13, 20), open=36.0, high=36.025, low=35.7, close=35.9, volume=-1.0, average=-1.0, barCount=-1),\n BarData(date=datetime.datetime(2022, 8, 3, 13, 30), open=35.9, high=36.05, low=35.85, close=35.85, volume=-1.0, average=-1.0, barCount=-1),\n BarData(date=datetime.datetime(2022, 8, 3, 13, 40), open=35.85, high=36.025, low=35.8, close=36.0, volume=-1.0, average=-1.0, barCount=-1),\n BarData(date=datetime.datetime(2022, 8, 3, 13, 50), open=36.0, high=36.225, low=36.0, close=36.1, volume=-1.0, average=-1.0, barCount=-1),\n BarData(date=datetime.datetime(2022, 8, 3, 14, 0), open=36.1, high=36.225, low=36.075, close=36.225, volume=-1.0, average=-1.0, barCount=-1),\n BarData(date=datetime.datetime(2022, 8, 3, 14, 10), open=36.225, high=36.475, low=36.125, close=36.475, volume=-1.0, average=-1.0, barCount=-1),\n BarData(date=datetime.datetime(2022, 8, 3, 14, 20), open=36.475, high=36.55, low=36.3, close=36.3, volume=-1.0, average=-1.0, barCount=-1),\n BarData(date=datetime.datetime(2022, 8, 3, 14, 30), open=36.3, high=36.375, low=36.25, close=36.25, volume=-1.0, average=-1.0, barCount=-1),\n BarData(date=datetime.datetime(2022, 8, 3, 14, 40), open=36.25, high=36.275, low=36.1, close=36.2, volume=-1.0, average=-1.0, barCount=-1),\n BarData(date=datetime.datetime(2022, 8, 3, 14, 50), open=36.2, high=36.375, low=36.1, close=36.15, volume=-1.0, average=-1.0, barCount=-1),\n BarData(date=datetime.datetime(2022, 8, 3, 15, 0), open=36.15, high=36.275, low=36.1, close=36.1, volume=-1.0, average=-1.0, barCount=-1),\n BarData(date=datetime.datetime(2022, 8, 3, 15, 10), open=36.1, high=36.175, low=35.95, close=36.15, volume=-1.0, average=-1.0, barCount=-1),\n BarData(date=datetime.datetime(2022, 8, 3, 15, 20), open=36.15, high=36.15, low=35.85, close=36.025, volume=-1.0, average=-1.0, barCount=-1),\n BarData(date=datetime.datetime(2022, 8, 3, 15, 30), open=36.025, high=36.325, low=35.925, close=36.325, volume=-1.0, average=-1.0, barCount=-1),\n BarData(date=datetime.datetime(2022, 8, 3, 15, 40), open=36.325, high=36.525, low=36.3, close=36.425, volume=-1.0, average=-1.0, barCount=-1),\n BarData(date=datetime.datetime(2022, 8, 3, 15, 50), open=36.425, high=36.575, low=35.925, close=36.125, volume=-1.0, average=-1.0, barCount=-1)]"
     },
     "execution_count": 127,
     "metadata": {},
     "output_type": "execute_result"
    }
   ],
   "source": [
    "bars"
   ],
   "metadata": {
    "collapsed": false,
    "pycharm": {
     "name": "#%%\n"
    }
   }
  },
  {
   "cell_type": "code",
   "execution_count": null,
   "outputs": [],
   "source": [],
   "metadata": {
    "collapsed": false,
    "pycharm": {
     "name": "#%%\n"
    }
   }
  }
 ],
 "metadata": {
  "kernelspec": {
   "display_name": "Python 3 (ipykernel)",
   "language": "python",
   "name": "python3"
  },
  "language_info": {
   "codemirror_mode": {
    "name": "ipython",
    "version": 3
   },
   "file_extension": ".py",
   "mimetype": "text/x-python",
   "name": "python",
   "nbconvert_exporter": "python",
   "pygments_lexer": "ipython3",
   "version": "3.9.7"
  }
 },
 "nbformat": 4,
 "nbformat_minor": 4
}